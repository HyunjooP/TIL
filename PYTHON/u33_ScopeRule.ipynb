{
  "nbformat": 4,
  "nbformat_minor": 0,
  "metadata": {
    "colab": {
      "name": "u33_ScopeRule.ipynb",
      "provenance": [],
      "collapsed_sections": []
    },
    "kernelspec": {
      "name": "python3",
      "display_name": "Python 3"
    },
    "language_info": {
      "name": "python"
    }
  },
  "cells": [
    {
      "cell_type": "markdown",
      "metadata": {
        "id": "z3Fddnh2rk_w"
      },
      "source": [
        "# Unit33. 변수의 사용 범위 (Scope Rule)"
      ]
    },
    {
      "cell_type": "code",
      "metadata": {
        "colab": {
          "base_uri": "https://localhost:8080/"
        },
        "id": "D7zTB9fgrhI9",
        "outputId": "11ae8f39-f6a3-48e6-9965-789f093e130c"
      },
      "source": [
        "x = 10 # 전역 변수\n",
        "def foo():\n",
        "  print(x)\n",
        "\n",
        "\n",
        "foo()\n",
        "print(x)"
      ],
      "execution_count": 1,
      "outputs": [
        {
          "output_type": "stream",
          "text": [
            "10\n",
            "10\n"
          ],
          "name": "stdout"
        }
      ]
    },
    {
      "cell_type": "code",
      "metadata": {
        "id": "gDxlAxWPsFqM"
      },
      "source": [
        "def foo():\n",
        "  y = 10 # 로컬 변수\n",
        "  print(y)\n",
        "\n",
        "foo()"
      ],
      "execution_count": null,
      "outputs": []
    }
  ]
}