{
  "nbformat": 4,
  "nbformat_minor": 0,
  "metadata": {
    "colab": {
      "name": "Programmers_Lv1.ipynb",
      "provenance": [],
      "collapsed_sections": [],
      "authorship_tag": "ABX9TyO+4Grbmyasci+dMKaK0q6T",
      "include_colab_link": true
    },
    "kernelspec": {
      "name": "python3",
      "display_name": "Python 3"
    },
    "language_info": {
      "name": "python"
    }
  },
  "cells": [
    {
      "cell_type": "markdown",
      "metadata": {
        "id": "view-in-github",
        "colab_type": "text"
      },
      "source": [
        "<a href=\"https://colab.research.google.com/github/HyunjooP/TIL/blob/master/Programmers_Lv1.ipynb\" target=\"_parent\"><img src=\"https://colab.research.google.com/assets/colab-badge.svg\" alt=\"Open In Colab\"/></a>"
      ]
    },
    {
      "cell_type": "markdown",
      "metadata": {
        "id": "fhRsPyEIJKnj"
      },
      "source": [
        "# Programmers Lv.1\n",
        "- https://programmers.co.kr/learn/challenges"
      ]
    },
    {
      "cell_type": "markdown",
      "metadata": {
        "id": "r80Eo8Z5QwvP"
      },
      "source": [
        "## 숫자 문자열과 영단어"
      ]
    },
    {
      "cell_type": "code",
      "metadata": {
        "id": "qi09PGjQ2XoD"
      },
      "source": [
        "def solution(s):\n",
        "    dic = {'zero':'0', 'one':'1', 'two':'2', 'three':'3','four':'4','five':'5','six':'6',\n",
        "        'seven':'7', 'eight':'8', 'nine':'9'}\n",
        "        \n",
        "    answer = \"\"\n",
        "    temp = \"\"\n",
        "    \n",
        "    for i in s :\n",
        "        if i.isdigit():\n",
        "            answer += i\n",
        "      \n",
        "        else:\n",
        "            temp += i\n",
        "            if temp in dic.keys() :\n",
        "                answer += dic[temp]\n",
        "                temp = \"\"\n",
        "    return int(answer)\n"
      ],
      "execution_count": 77,
      "outputs": []
    },
    {
      "cell_type": "code",
      "metadata": {
        "id": "7GdYp0hLLaE0"
      },
      "source": [
        "# s = \"one4seveneight\"\n",
        "# s = \"23four5six7\"\n",
        "s = \"2three45sixseven\"\n",
        "# s = \"123\""
      ],
      "execution_count": 78,
      "outputs": []
    },
    {
      "cell_type": "code",
      "metadata": {
        "colab": {
          "base_uri": "https://localhost:8080/"
        },
        "id": "9Ikp90iCIwid",
        "outputId": "85533b95-2cbf-4fa0-b35d-41e6d99b6949"
      },
      "source": [
        "solution(s)"
      ],
      "execution_count": 79,
      "outputs": [
        {
          "output_type": "execute_result",
          "data": {
            "text/plain": [
              "234567"
            ]
          },
          "metadata": {},
          "execution_count": 79
        }
      ]
    },
    {
      "cell_type": "code",
      "metadata": {
        "id": "X2r-zgaxQgW2"
      },
      "source": [
        "# 다른 사람들 답\n",
        "\n",
        "num_dic = {\"zero\":\"0\", \"one\":\"1\", \"two\":\"2\", \"three\":\"3\", \"four\":\"4\", \"five\":\"5\", \"six\":\"6\", \"seven\":\"7\", \"eight\":\"8\", \"nine\":\"9\"}\n",
        "\n",
        "def solution(s):\n",
        "    answer = s\n",
        "    for key, value in num_dic.items():\n",
        "        answer = answer.replace(key, value)\n",
        "    return int(answer)"
      ],
      "execution_count": 81,
      "outputs": []
    },
    {
      "cell_type": "code",
      "metadata": {
        "id": "MViY7nSMRg8d"
      },
      "source": [
        "# 다른 사람들 답\n",
        "\n",
        "def solution(s):\n",
        "    words = ['zero', 'one', 'two', 'three', 'four', 'five', 'six', 'seven', 'eight', 'nine']\n",
        "\n",
        "    for i in range(len(words)):\n",
        "        s = s.replace(words[i], str(i))\n",
        "\n",
        "    return int(s)\n"
      ],
      "execution_count": 80,
      "outputs": []
    },
    {
      "cell_type": "code",
      "metadata": {
        "id": "NCrHD5e1RiMO"
      },
      "source": [
        ""
      ],
      "execution_count": null,
      "outputs": []
    }
  ]
}