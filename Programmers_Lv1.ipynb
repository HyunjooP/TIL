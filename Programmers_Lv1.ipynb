{
  "nbformat": 4,
  "nbformat_minor": 0,
  "metadata": {
    "colab": {
      "name": "Programmers_Lv1.ipynb",
      "provenance": [],
      "collapsed_sections": [
        "r80Eo8Z5QwvP",
        "O2g7xyQqR2B9"
      ],
      "authorship_tag": "ABX9TyPC1MwfPMFjI9D1bMDvw45y",
      "include_colab_link": true
    },
    "kernelspec": {
      "name": "python3",
      "display_name": "Python 3"
    },
    "language_info": {
      "name": "python"
    }
  },
  "cells": [
    {
      "cell_type": "markdown",
      "metadata": {
        "id": "view-in-github",
        "colab_type": "text"
      },
      "source": [
        "<a href=\"https://colab.research.google.com/github/HyunjooP/TIL/blob/master/Programmers_Lv1.ipynb\" target=\"_parent\"><img src=\"https://colab.research.google.com/assets/colab-badge.svg\" alt=\"Open In Colab\"/></a>"
      ]
    },
    {
      "cell_type": "markdown",
      "metadata": {
        "id": "fhRsPyEIJKnj"
      },
      "source": [
        "# Programmers Lv.1\n",
        "- https://programmers.co.kr/learn/challenges"
      ]
    },
    {
      "cell_type": "markdown",
      "metadata": {
        "id": "r80Eo8Z5QwvP"
      },
      "source": [
        "## 숫자 문자열과 영단어"
      ]
    },
    {
      "cell_type": "code",
      "metadata": {
        "id": "qi09PGjQ2XoD"
      },
      "source": [
        "def solution(s):\n",
        "    dic = {'zero':'0', 'one':'1', 'two':'2', 'three':'3','four':'4','five':'5','six':'6',\n",
        "        'seven':'7', 'eight':'8', 'nine':'9'}\n",
        "        \n",
        "    answer = \"\"\n",
        "    temp = \"\"\n",
        "    \n",
        "    for i in s :\n",
        "        if i.isdigit():\n",
        "            answer += i\n",
        "      \n",
        "        else:\n",
        "            temp += i\n",
        "            if temp in dic.keys() :\n",
        "                answer += dic[temp]\n",
        "                temp = \"\"\n",
        "    return int(answer)\n"
      ],
      "execution_count": 1,
      "outputs": []
    },
    {
      "cell_type": "code",
      "metadata": {
        "id": "7GdYp0hLLaE0"
      },
      "source": [
        "# s = \"one4seveneight\"\n",
        "# s = \"23four5six7\"\n",
        "s = \"2three45sixseven\"\n",
        "# s = \"123\""
      ],
      "execution_count": 2,
      "outputs": []
    },
    {
      "cell_type": "code",
      "metadata": {
        "colab": {
          "base_uri": "https://localhost:8080/"
        },
        "id": "9Ikp90iCIwid",
        "outputId": "3dc278ad-bc1b-4818-c49a-5a17901cae6b"
      },
      "source": [
        "solution(s)"
      ],
      "execution_count": 3,
      "outputs": [
        {
          "output_type": "execute_result",
          "data": {
            "text/plain": [
              "234567"
            ]
          },
          "metadata": {},
          "execution_count": 3
        }
      ]
    },
    {
      "cell_type": "code",
      "metadata": {
        "id": "X2r-zgaxQgW2"
      },
      "source": [
        "# 다른 사람들 답\n",
        "\n",
        "num_dic = {\"zero\":\"0\", \"one\":\"1\", \"two\":\"2\", \"three\":\"3\", \"four\":\"4\", \"five\":\"5\", \"six\":\"6\", \"seven\":\"7\", \"eight\":\"8\", \"nine\":\"9\"}\n",
        "\n",
        "def solution(s):\n",
        "    answer = s\n",
        "    for key, value in num_dic.items():\n",
        "        answer = answer.replace(key, value)\n",
        "    return int(answer)"
      ],
      "execution_count": 4,
      "outputs": []
    },
    {
      "cell_type": "code",
      "metadata": {
        "id": "MViY7nSMRg8d"
      },
      "source": [
        "# 다른 사람들 답\n",
        "\n",
        "def solution(s):\n",
        "    words = ['zero', 'one', 'two', 'three', 'four', 'five', 'six', 'seven', 'eight', 'nine']\n",
        "\n",
        "    for i in range(len(words)):\n",
        "        s = s.replace(words[i], str(i))\n",
        "\n",
        "    return int(s)\n"
      ],
      "execution_count": 5,
      "outputs": []
    },
    {
      "cell_type": "markdown",
      "metadata": {
        "id": "O2g7xyQqR2B9"
      },
      "source": [
        "## 신규 아이디 추천\n",
        "\n"
      ]
    },
    {
      "cell_type": "code",
      "metadata": {
        "id": "LklfkGxD1cd-"
      },
      "source": [
        "def solution(new_id):\n",
        "    # 1단계 new_id의 모든 대문자를 대응되는 소문자로 치환합니다.\n",
        "  new_id = new_id.lower()\n",
        "\n",
        "  # 2단계 new_id에서 알파벳 소문자, 숫자, 빼기(-), 밑줄(_), 마침표(.)를 제외한 모든 문자를 제거합니다.\n",
        "  characters = \"~!@#$%^&*()=+[{]}:?,<>/\"\n",
        "  new_id = ''.join( x for x in new_id if x not in characters)\n",
        "\n",
        "  # 3단계 new_id에서 마침표(.)가 2번 이상 연속된 부분을 하나의 마침표(.)로 치환합니다.\n",
        "  for i in range(len(new_id)):\n",
        "    new_id = new_id.replace('..','.')\n",
        "\n",
        "  # 4단계 new_id에서 마침표(.)가 처음이나 끝에 위치한다면 제거합니다.\n",
        "  if new_id[0] == '.':\n",
        "    new_id = new_id[1:]\n",
        "  if new_id == '':\n",
        "    pass\n",
        "  elif new_id[-1] == '.':\n",
        "    new_id = new_id[:-1]\n",
        "\n",
        "  # 5단계 new_id가 빈 문자열이라면, new_id에 \"a\"를 대입합니다.\n",
        "  if new_id == '':\n",
        "    new_id = 'a'\n",
        "\n",
        "  # 6단계 new_id의 길이가 16자 이상이면, new_id의 첫 15개의 문자를 제외한 나머지 문자들을 모두 제거합니다.\n",
        "  # 만약 제거 후 마침표(.)가 new_id의 끝에 위치한다면 끝에 위치한 마침표(.) 문자를 제거합니다.\n",
        "  if len(new_id) >= 16:\n",
        "    new_id = new_id[:15]\n",
        "  if new_id[-1] == '.':\n",
        "    new_id = new_id[:-1]\n",
        "\n",
        "  # 7단계 new_id의 길이가 2자 이하라면, new_id의 마지막 문자를 new_id의 길이가 3이 될 때까지 반복해서 끝에 붙입니다.\n",
        "  if len(new_id) <= 2:\n",
        "      t = new_id[-1]\n",
        "      while len(new_id) != 3:\n",
        "          new_id += t\n",
        "\n",
        "  return new_id"
      ],
      "execution_count": 19,
      "outputs": []
    },
    {
      "cell_type": "code",
      "metadata": {
        "id": "bumMDkBG1cbY"
      },
      "source": [
        "# 다른 사람의 답\n",
        "\n",
        "import re\n",
        "\n",
        "def solution(new_id):\n",
        "    st = new_id\n",
        "    st = st.lower()\n",
        "    st = re.sub('[^a-z0-9\\-_.]', '', st)\n",
        "    st = re.sub('\\.+', '.', st)\n",
        "    st = re.sub('^[.]|[.]$', '', st)\n",
        "    st = 'a' if len(st) == 0 else st[:15]\n",
        "    st = re.sub('^[.]|[.]$', '', st)\n",
        "    st = st if len(st) > 2 else st + \"\".join([st[-1] for i in range(3-len(st))])\n",
        "    return st"
      ],
      "execution_count": 18,
      "outputs": []
    },
    {
      "cell_type": "code",
      "metadata": {
        "id": "RMl3FQ3P1cYi"
      },
      "source": [
        "# 다른 사람의 답\n",
        "\n",
        "def solution(new_id):\n",
        "    answer = ''\n",
        "    # 1\n",
        "    new_id = new_id.lower()\n",
        "    # 2\n",
        "    for c in new_id:\n",
        "        if c.isalpha() or c.isdigit() or c in ['-', '_', '.']:\n",
        "            answer += c\n",
        "    # 3\n",
        "    while '..' in answer:\n",
        "        answer = answer.replace('..', '.')\n",
        "    # 4\n",
        "    if answer[0] == '.':\n",
        "        answer = answer[1:] if len(answer) > 1 else '.'\n",
        "    if answer[-1] == '.':\n",
        "        answer = answer[:-1]\n",
        "    # 5\n",
        "    if answer == '':\n",
        "        answer = 'a'\n",
        "    # 6\n",
        "    if len(answer) > 15:\n",
        "        answer = answer[:15]\n",
        "        if answer[-1] == '.':\n",
        "            answer = answer[:-1]\n",
        "    # 7\n",
        "    while len(answer) < 3:\n",
        "        answer += answer[-1]\n",
        "    return answer"
      ],
      "execution_count": 17,
      "outputs": []
    },
    {
      "cell_type": "code",
      "metadata": {
        "id": "nEtMzaU11cV0"
      },
      "source": [
        ""
      ],
      "execution_count": 11,
      "outputs": []
    },
    {
      "cell_type": "code",
      "metadata": {
        "id": "q1FmQk8s53iD"
      },
      "source": [
        ""
      ],
      "execution_count": 11,
      "outputs": []
    }
  ]
}