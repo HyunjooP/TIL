{
  "nbformat": 4,
  "nbformat_minor": 0,
  "metadata": {
    "colab": {
      "name": "u31_재귀호출.ipynb",
      "provenance": [],
      "collapsed_sections": []
    },
    "kernelspec": {
      "name": "python3",
      "display_name": "Python 3"
    },
    "language_info": {
      "name": "python"
    }
  },
  "cells": [
    {
      "cell_type": "markdown",
      "metadata": {
        "id": "lHw1q4USuh5i"
      },
      "source": [
        "# Unit 31. 함수에서 재귀호출 사용하기"
      ]
    },
    {
      "cell_type": "markdown",
      "metadata": {
        "id": "IROHACDRukzS"
      },
      "source": [
        "### factorial 함수를 재귀호출로 구현"
      ]
    },
    {
      "cell_type": "code",
      "metadata": {
        "id": "zowl0NFEudlY"
      },
      "source": [
        "def factorial(n):  # 팩토리얼은 1부터 n까지 양의 정수를 차례대로 곱한 값\n",
        "  if n==0:\n",
        "    return 1\n",
        "  return n*factorial(n-1)"
      ],
      "execution_count": 1,
      "outputs": []
    },
    {
      "cell_type": "markdown",
      "metadata": {
        "id": "-yQ6GHLLwieh"
      },
      "source": [
        "### 피보나치(fibonacci) 수열\n",
        "- f(n) = f(n-1) + f(n-2), n >= 3 일 때\n",
        "- f(1) = 1, f(2)=1"
      ]
    },
    {
      "cell_type": "code",
      "metadata": {
        "id": "QgLmR5W4u0S1"
      },
      "source": [
        "def fibo(n):\n",
        "  if n == 1 or n ==2:\n",
        "    return 1\n",
        "  return fibo(n-1) + fibo(n-2)"
      ],
      "execution_count": 2,
      "outputs": []
    },
    {
      "cell_type": "code",
      "metadata": {
        "colab": {
          "base_uri": "https://localhost:8080/"
        },
        "id": "C1ZlIkNF0oZS",
        "outputId": "126bdc99-1de9-4b3e-b6c1-d863c02405b0"
      },
      "source": [
        "[fibo(i) for i in range(1, 11)]"
      ],
      "execution_count": 3,
      "outputs": [
        {
          "output_type": "execute_result",
          "data": {
            "text/plain": [
              "[1, 1, 2, 3, 5, 8, 13, 21, 34, 55]"
            ]
          },
          "metadata": {
            "tags": []
          },
          "execution_count": 3
        }
      ]
    },
    {
      "cell_type": "code",
      "metadata": {
        "id": "boAC9ZuE0snz"
      },
      "source": [
        ""
      ],
      "execution_count": null,
      "outputs": []
    }
  ]
}