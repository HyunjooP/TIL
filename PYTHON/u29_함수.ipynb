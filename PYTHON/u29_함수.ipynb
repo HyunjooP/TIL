{
  "nbformat": 4,
  "nbformat_minor": 0,
  "metadata": {
    "colab": {
      "name": "u29_함수.ipynb",
      "provenance": [],
      "collapsed_sections": []
    },
    "kernelspec": {
      "name": "python3",
      "display_name": "Python 3"
    },
    "language_info": {
      "name": "python"
    }
  },
  "cells": [
    {
      "cell_type": "markdown",
      "metadata": {
        "id": "5lMRpnr8MsVX"
      },
      "source": [
        "# Unit 29. 함수 사용하기"
      ]
    },
    {
      "cell_type": "markdown",
      "metadata": {
        "id": "PhePQr5fOn9Q"
      },
      "source": [
        "## 29.1 출력 함수 만들기"
      ]
    },
    {
      "cell_type": "code",
      "metadata": {
        "id": "wTFquCeYMnbc"
      },
      "source": [
        "def hello():\n",
        "  print('Hello, world!') "
      ],
      "execution_count": 1,
      "outputs": []
    },
    {
      "cell_type": "code",
      "metadata": {
        "colab": {
          "base_uri": "https://localhost:8080/"
        },
        "id": "62-n_xbHMtEl",
        "outputId": "fd7d0ca7-09da-4276-b4ae-1416fdafd8cc"
      },
      "source": [
        "hello()"
      ],
      "execution_count": 2,
      "outputs": [
        {
          "output_type": "stream",
          "text": [
            "Hello, world!\n"
          ],
          "name": "stdout"
        }
      ]
    },
    {
      "cell_type": "markdown",
      "metadata": {
        "id": "scx9-Yy4Pysb"
      },
      "source": [
        "## 29.2 덧셈 함수"
      ]
    },
    {
      "cell_type": "code",
      "metadata": {
        "id": "2h_IH3pHO6-w"
      },
      "source": [
        "# 매개변수, parameter, argumennt\n",
        "def add(a, b):\n",
        "  print(a + b)"
      ],
      "execution_count": 5,
      "outputs": []
    },
    {
      "cell_type": "code",
      "metadata": {
        "colab": {
          "base_uri": "https://localhost:8080/"
        },
        "id": "S0k_xe6vP_7G",
        "outputId": "bd137d0d-7602-443f-a462-cc8e01c19da5"
      },
      "source": [
        "add(4, 5)"
      ],
      "execution_count": 6,
      "outputs": [
        {
          "output_type": "stream",
          "text": [
            "9\n"
          ],
          "name": "stdout"
        }
      ]
    },
    {
      "cell_type": "code",
      "metadata": {
        "id": "D0Lq0uLcQC97"
      },
      "source": [
        "# Docstrings\n",
        "def add(a, b):\n",
        "  \"\"\"\n",
        "  이 함수는 a와 b를 더한 뒤 결과를 반환하는 함수입니다.\n",
        "  \"\"\"\n",
        "  print(a + b)"
      ],
      "execution_count": 7,
      "outputs": []
    },
    {
      "cell_type": "code",
      "metadata": {
        "id": "2cORPD5sQ0oY"
      },
      "source": [
        "add?"
      ],
      "execution_count": 8,
      "outputs": []
    },
    {
      "cell_type": "markdown",
      "metadata": {
        "id": "4jeoNvNBRa6X"
      },
      "source": [
        "## 29.3 함수의 결과를 반환하기"
      ]
    },
    {
      "cell_type": "code",
      "metadata": {
        "id": "Sth017RlQ7kf"
      },
      "source": [
        "def add(a,b):\n",
        "  return a+b"
      ],
      "execution_count": 9,
      "outputs": []
    },
    {
      "cell_type": "code",
      "metadata": {
        "colab": {
          "base_uri": "https://localhost:8080/"
        },
        "id": "CX43ejlCR0ff",
        "outputId": "c083616e-6d15-48d8-d826-9d6ac3b93296"
      },
      "source": [
        "add(4,5), add(10,20)"
      ],
      "execution_count": 10,
      "outputs": [
        {
          "output_type": "execute_result",
          "data": {
            "text/plain": [
              "(9, 30)"
            ]
          },
          "metadata": {
            "tags": []
          },
          "execution_count": 10
        }
      ]
    },
    {
      "cell_type": "code",
      "metadata": {
        "id": "Z4U41ub9R3LV"
      },
      "source": [
        "def not_ten(x):\n",
        "  if x==10:\n",
        "    return\n",
        "  else:\n",
        "    print('It is 10.')"
      ],
      "execution_count": 13,
      "outputs": []
    },
    {
      "cell_type": "code",
      "metadata": {
        "colab": {
          "base_uri": "https://localhost:8080/"
        },
        "id": "2pAMaP9eSjc8",
        "outputId": "5860f37b-1d88-487d-f149-c7a0382ec2c9"
      },
      "source": [
        "not_ten(5)"
      ],
      "execution_count": 14,
      "outputs": [
        {
          "output_type": "stream",
          "text": [
            "It is 10.\n"
          ],
          "name": "stdout"
        }
      ]
    },
    {
      "cell_type": "code",
      "metadata": {
        "id": "ATOsQ3M5SmcA"
      },
      "source": [
        "not_ten(101//10)"
      ],
      "execution_count": 15,
      "outputs": []
    },
    {
      "cell_type": "markdown",
      "metadata": {
        "id": "M6Bbf9bzTbgZ"
      },
      "source": [
        "## 29.4 여러개의 결과값 반환"
      ]
    },
    {
      "cell_type": "code",
      "metadata": {
        "id": "AeqTdYHjStg4"
      },
      "source": [
        "def add_sub(a,b):\n",
        "  return a+b, a-b"
      ],
      "execution_count": 16,
      "outputs": []
    },
    {
      "cell_type": "code",
      "metadata": {
        "id": "W_v5UpeJTkz3"
      },
      "source": [
        "x, y = add_sub(15, 7)"
      ],
      "execution_count": 18,
      "outputs": []
    },
    {
      "cell_type": "code",
      "metadata": {
        "colab": {
          "base_uri": "https://localhost:8080/"
        },
        "id": "YAmDhcDjTnEf",
        "outputId": "653323fc-f214-4094-a57a-c5d036ea738b"
      },
      "source": [
        "x, y"
      ],
      "execution_count": 19,
      "outputs": [
        {
          "output_type": "execute_result",
          "data": {
            "text/plain": [
              "(22, 8)"
            ]
          },
          "metadata": {
            "tags": []
          },
          "execution_count": 19
        }
      ]
    },
    {
      "cell_type": "markdown",
      "metadata": {
        "id": "55Ju8OKUUR_P"
      },
      "source": [
        "## 29.5 함수의 호출 과정"
      ]
    },
    {
      "cell_type": "code",
      "metadata": {
        "id": "sKL2XNx8Tp3o"
      },
      "source": [
        "# Stack을 이용한다\n"
      ],
      "execution_count": 20,
      "outputs": []
    },
    {
      "cell_type": "markdown",
      "metadata": {
        "id": "_A8ZLb1KVTJ7"
      },
      "source": [
        "## 연습 문제\n",
        "- 3자리수 정수 두개를 곱해서 나온 결과가 팔린드롬이 되도록 할 때, 가장 큰 숫자는?"
      ]
    },
    {
      "cell_type": "code",
      "metadata": {
        "id": "3cHuCNl0byP_"
      },
      "source": [
        "# 왼쪽, 오른쪽에서 읽은 숫자가 동일함\n",
        "def is_palindrome(x): \n",
        "  s = str(x)\n",
        "  return s == s[::-1]"
      ],
      "execution_count": 22,
      "outputs": []
    },
    {
      "cell_type": "code",
      "metadata": {
        "colab": {
          "base_uri": "https://localhost:8080/"
        },
        "id": "ayJbWRmbdHAO",
        "outputId": "9aa6ae03-4cbc-424b-fe6b-336a57220931"
      },
      "source": [
        "is_palindrome(12345), is_palindrome(906609)"
      ],
      "execution_count": 23,
      "outputs": [
        {
          "output_type": "execute_result",
          "data": {
            "text/plain": [
              "(False, True)"
            ]
          },
          "metadata": {
            "tags": []
          },
          "execution_count": 23
        }
      ]
    },
    {
      "cell_type": "code",
      "metadata": {
        "colab": {
          "base_uri": "https://localhost:8080/"
        },
        "id": "_PC-V8gRVRhn",
        "outputId": "4c9cf7c5-cd82-486c-afc6-6254b08a82ef"
      },
      "source": [
        "max_pal, m, n = 0, 0, 0\n",
        "for i in range(100, 1000):\n",
        "  for k in range(i, 1000):\n",
        "    if is_palindrome(i*k):\n",
        "      if i*k > max_pal:\n",
        "        max_pal = i*k\n",
        "        m = i\n",
        "        n = k\n",
        "print(f'{m} x {n} = {max_pal}')"
      ],
      "execution_count": 26,
      "outputs": [
        {
          "output_type": "stream",
          "text": [
            "913 x 993 = 906609\n"
          ],
          "name": "stdout"
        }
      ]
    },
    {
      "cell_type": "code",
      "metadata": {
        "id": "Y0eTje7VeK3K"
      },
      "source": [
        ""
      ],
      "execution_count": null,
      "outputs": []
    }
  ]
}