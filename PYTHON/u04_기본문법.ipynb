{
  "nbformat": 4,
  "nbformat_minor": 0,
  "metadata": {
    "colab": {
      "name": "u04_기본문법.ipynb",
      "provenance": [],
      "collapsed_sections": [],
      "toc_visible": true
    },
    "kernelspec": {
      "name": "python3",
      "display_name": "Python 3"
    },
    "language_info": {
      "name": "python"
    }
  },
  "cells": [
    {
      "cell_type": "code",
      "metadata": {
        "id": "1WvzBPC4a0Yg"
      },
      "source": [
        ""
      ],
      "execution_count": null,
      "outputs": []
    },
    {
      "cell_type": "markdown",
      "metadata": {
        "id": "HvzhuYzta6Qb"
      },
      "source": [
        ""
      ]
    },
    {
      "cell_type": "markdown",
      "metadata": {
        "id": "afYNtJ0ia6V7"
      },
      "source": [
        "# Unit 4. 기본 문법 알아보기"
      ]
    },
    {
      "cell_type": "markdown",
      "metadata": {
        "id": "RlOEbB40bFLq"
      },
      "source": [
        "## 4.1 세미콜론"
      ]
    },
    {
      "cell_type": "code",
      "metadata": {
        "colab": {
          "base_uri": "https://localhost:8080/"
        },
        "id": "mjASbT1rbKNQ",
        "outputId": "1fe69297-6958-40ff-b394-4fe0df373ad9"
      },
      "source": [
        "print('Hello world!')"
      ],
      "execution_count": null,
      "outputs": [
        {
          "output_type": "stream",
          "text": [
            "Hello world!\n"
          ],
          "name": "stdout"
        }
      ]
    },
    {
      "cell_type": "markdown",
      "metadata": {
        "id": "VvDfujphbv98"
      },
      "source": [
        "## 4.2 주석"
      ]
    },
    {
      "cell_type": "markdown",
      "metadata": {
        "id": "NcbgZBVpb5Mp"
      },
      "source": [
        "### 4.2.1 한 줄 주석"
      ]
    },
    {
      "cell_type": "code",
      "metadata": {
        "colab": {
          "base_uri": "https://localhost:8080/"
        },
        "id": "23gyYKBUb-Zb",
        "outputId": "4a572746-b573-45d4-afef-96f6e867bdbf"
      },
      "source": [
        "1 # Hello, world! 출력\n",
        "print('Hello World!')"
      ],
      "execution_count": null,
      "outputs": [
        {
          "output_type": "stream",
          "text": [
            "Hello World!\n"
          ],
          "name": "stdout"
        }
      ]
    },
    {
      "cell_type": "code",
      "metadata": {
        "colab": {
          "base_uri": "https://localhost:8080/"
        },
        "id": "cvGyA4dNcR6G",
        "outputId": "36e88535-5393-4820-ce90-62a25fc769e7"
      },
      "source": [
        "print('Hello World!') #주석"
      ],
      "execution_count": null,
      "outputs": [
        {
          "output_type": "stream",
          "text": [
            "Hello World!\n"
          ],
          "name": "stdout"
        }
      ]
    },
    {
      "cell_type": "markdown",
      "metadata": {
        "id": "I-RK5VAkby2D"
      },
      "source": [
        "### 4.2.2 블록 주석"
      ]
    },
    {
      "cell_type": "code",
      "metadata": {
        "id": "Al38hOQ4cUHB",
        "colab": {
          "base_uri": "https://localhost:8080/",
          "height": 35
        },
        "outputId": "6a9fb861-ee8e-4a43-e51d-65e06daa9166"
      },
      "source": [
        "# 더하기\n",
        "'''a = 1 + 2\n",
        "print('Hello, world!')'''"
      ],
      "execution_count": 1,
      "outputs": [
        {
          "output_type": "execute_result",
          "data": {
            "application/vnd.google.colaboratory.intrinsic+json": {
              "type": "string"
            },
            "text/plain": [
              "\"a = 1 + 2\\nprint('Hello, world!')\""
            ]
          },
          "metadata": {
            "tags": []
          },
          "execution_count": 1
        }
      ]
    },
    {
      "cell_type": "markdown",
      "metadata": {
        "id": "wcZ3KwQ9cPJS"
      },
      "source": [
        "## 4.3 들여쓰기 (Indentation)"
      ]
    },
    {
      "cell_type": "code",
      "metadata": {
        "colab": {
          "base_uri": "https://localhost:8080/",
          "height": 35
        },
        "id": "VTbCB3n2cRNo",
        "outputId": "a3e7491c-2c01-4f17-89ae-d03f9afc990b"
      },
      "source": [
        "\"\"\" C 프로그래밍 예\n",
        "sum = 0;\n",
        "for (i=1; i<=10; i++) {\n",
        "    sum += i;\n",
        "}\n",
        "printf(sum);\n",
        "\"\"\""
      ],
      "execution_count": 2,
      "outputs": [
        {
          "output_type": "execute_result",
          "data": {
            "application/vnd.google.colaboratory.intrinsic+json": {
              "type": "string"
            },
            "text/plain": [
              "' C 프로그래밍 예\\nsum = 0;\\nfor (i=1; i<=10; i++) {\\n    sum += i;\\n}\\nprintf(sum);\\n'"
            ]
          },
          "metadata": {
            "tags": []
          },
          "execution_count": 2
        }
      ]
    },
    {
      "cell_type": "code",
      "metadata": {
        "id": "T3jV4kKicV3e"
      },
      "source": [
        "# 파이썬 예\n",
        "sum = 0\n",
        "for i in range(1,11):\n",
        "    sum += i\n",
        "print(sum)"
      ],
      "execution_count": null,
      "outputs": []
    },
    {
      "cell_type": "code",
      "metadata": {
        "id": "bURr0v16cWRU"
      },
      "source": [
        "\n",
        "# 기본 공백: 공백 4개, 탭/백탭(Shift+TAB)\n",
        "sum = 0\n",
        "for i in range(1,11):\n",
        "    sum += i\n",
        "    if (i >9):\n",
        "        print(i)\n",
        "\n",
        "print(sum)"
      ],
      "execution_count": null,
      "outputs": []
    }
  ]
}