{
  "nbformat": 4,
  "nbformat_minor": 0,
  "metadata": {
    "colab": {
      "name": "u30_위치인수_키워드인수.ipynb",
      "provenance": [],
      "collapsed_sections": []
    },
    "kernelspec": {
      "name": "python3",
      "display_name": "Python 3"
    },
    "language_info": {
      "name": "python"
    }
  },
  "cells": [
    {
      "cell_type": "markdown",
      "metadata": {
        "id": "ObY-8VAriaJT"
      },
      "source": [
        "# Unit 30. 함수에서 위치 인수와 키워드 인수 사용하기"
      ]
    },
    {
      "cell_type": "markdown",
      "metadata": {
        "id": "H2zpXNfcmdV1"
      },
      "source": [
        "## 30.1 위치인수"
      ]
    },
    {
      "cell_type": "code",
      "metadata": {
        "id": "tuOOyBo8hikF"
      },
      "source": [
        "def print_numbers(a,b,c):\n",
        "  print(a)\n",
        "  print(b)\n",
        "  print(c)"
      ],
      "execution_count": 1,
      "outputs": []
    },
    {
      "cell_type": "code",
      "metadata": {
        "colab": {
          "base_uri": "https://localhost:8080/"
        },
        "id": "hbAR0uvFhrip",
        "outputId": "954aa4bf-fbdb-4311-a33c-b934bca2df18"
      },
      "source": [
        "print_numbers(10, 20, 30)"
      ],
      "execution_count": 2,
      "outputs": [
        {
          "output_type": "stream",
          "text": [
            "10\n",
            "20\n",
            "30\n"
          ],
          "name": "stdout"
        }
      ]
    },
    {
      "cell_type": "code",
      "metadata": {
        "colab": {
          "base_uri": "https://localhost:8080/"
        },
        "id": "z1EjQ4H8hvU-",
        "outputId": "bf9251a3-e03e-4e8b-db4b-8a8d78c789ed"
      },
      "source": [
        "# *x, *y - 리스트/튜플 언패킹\n",
        "x, y = [10,20,30], (40,50,60)\n",
        "print_numbers(*x)\n",
        "print_numbers(*y)"
      ],
      "execution_count": 3,
      "outputs": [
        {
          "output_type": "stream",
          "text": [
            "10\n",
            "20\n",
            "30\n",
            "40\n",
            "50\n",
            "60\n"
          ],
          "name": "stdout"
        }
      ]
    },
    {
      "cell_type": "code",
      "metadata": {
        "id": "t8F_qBd6iATU"
      },
      "source": [
        "# 가변 인수 함수\n",
        "def print_numbers(*args):\n",
        "  for arg in args:\n",
        "    print(arg)"
      ],
      "execution_count": 5,
      "outputs": []
    },
    {
      "cell_type": "code",
      "metadata": {
        "id": "M-vs3XQxiNvF"
      },
      "source": [
        "# 고정 인수와 가변 인수\n",
        "def print_numbers2(a, *args):\n",
        "  print(a)\n",
        "  print(args)"
      ],
      "execution_count": 6,
      "outputs": []
    },
    {
      "cell_type": "code",
      "metadata": {
        "colab": {
          "base_uri": "https://localhost:8080/"
        },
        "id": "RUrOssS6iuwp",
        "outputId": "f3d9d986-b548-4693-c221-8adbbaebdd54"
      },
      "source": [
        "print_numbers2(1, 10, 20)"
      ],
      "execution_count": 7,
      "outputs": [
        {
          "output_type": "stream",
          "text": [
            "1\n",
            "(10, 20)\n"
          ],
          "name": "stdout"
        }
      ]
    },
    {
      "cell_type": "markdown",
      "metadata": {
        "id": "NEal7VKZmXmE"
      },
      "source": [
        "## 30.2 키워드 인수\n"
      ]
    },
    {
      "cell_type": "code",
      "metadata": {
        "id": "KYpEoxdniyyc"
      },
      "source": [
        "def personal_info(name, age, addr):\n",
        "  print('이름:', name)\n",
        "  print('나이:', age)\n",
        "  print('주소:', addr)"
      ],
      "execution_count": 12,
      "outputs": []
    },
    {
      "cell_type": "code",
      "metadata": {
        "colab": {
          "base_uri": "https://localhost:8080/"
        },
        "id": "8OcRAcfPmlmj",
        "outputId": "47daa577-6f7e-4df0-d45f-9996fca3fcd4"
      },
      "source": [
        "personal_info('홍길동', 30, '서울 강남구 도곡동')"
      ],
      "execution_count": 13,
      "outputs": [
        {
          "output_type": "stream",
          "text": [
            "이름: 홍길동\n",
            "나이: 30\n",
            "주소: 서울 강남구 도곡동\n"
          ],
          "name": "stdout"
        }
      ]
    },
    {
      "cell_type": "code",
      "metadata": {
        "colab": {
          "base_uri": "https://localhost:8080/"
        },
        "id": "OZeFfN_Zm9mN",
        "outputId": "b51a1a3d-1ffd-4a5b-a008-c5ea644416d9"
      },
      "source": [
        "personal_info(age=30, addr='서울 강남구 도곡동', name='홍길동')"
      ],
      "execution_count": 14,
      "outputs": [
        {
          "output_type": "stream",
          "text": [
            "이름: 홍길동\n",
            "나이: 30\n",
            "주소: 서울 강남구 도곡동\n"
          ],
          "name": "stdout"
        }
      ]
    },
    {
      "cell_type": "markdown",
      "metadata": {
        "id": "5a-aupzpnft0"
      },
      "source": [
        "## 30.3 키워드 인수와 딕셔너리 언패킹 "
      ]
    },
    {
      "cell_type": "code",
      "metadata": {
        "colab": {
          "base_uri": "https://localhost:8080/"
        },
        "id": "Oz8sV9lenHaq",
        "outputId": "2dcfb80f-aef1-4a08-ccf9-f1b26bc100a9"
      },
      "source": [
        "x = {'name':'홍길동', 'age':30, 'addr':'서울 강남구 도곡동'}\n",
        "personal_info(**x)"
      ],
      "execution_count": 16,
      "outputs": [
        {
          "output_type": "stream",
          "text": [
            "이름: 홍길동\n",
            "나이: 30\n",
            "주소: 서울 강남구 도곡동\n"
          ],
          "name": "stdout"
        }
      ]
    },
    {
      "cell_type": "markdown",
      "metadata": {
        "id": "7U3_gL1FosHD"
      },
      "source": [
        "### 가변 키워드 인수"
      ]
    },
    {
      "cell_type": "code",
      "metadata": {
        "id": "RdHY1SJIn5Qi"
      },
      "source": [
        "def personal_info2(**kwargs):\n",
        "  for key, value in kwargs.items():\n",
        "    print(f'{key}: {value}')"
      ],
      "execution_count": 24,
      "outputs": []
    },
    {
      "cell_type": "code",
      "metadata": {
        "colab": {
          "base_uri": "https://localhost:8080/"
        },
        "id": "Sp7G4Tzno70m",
        "outputId": "d4ab3cc2-7cba-43e1-d7b5-3dad8dfa9d9b"
      },
      "source": [
        "personal_info2(**x)"
      ],
      "execution_count": 25,
      "outputs": [
        {
          "output_type": "stream",
          "text": [
            "name: 홍길동\n",
            "age: 30\n",
            "addr: 서울 강남구 도곡동\n"
          ],
          "name": "stdout"
        }
      ]
    },
    {
      "cell_type": "code",
      "metadata": {
        "colab": {
          "base_uri": "https://localhost:8080/"
        },
        "id": "gBQ8cpEIo_Vp",
        "outputId": "1ce1fba9-6d30-42d7-d9fb-06c2ca92699c"
      },
      "source": [
        "personal_info2(name='홍길동', age=30)"
      ],
      "execution_count": 26,
      "outputs": [
        {
          "output_type": "stream",
          "text": [
            "name: 홍길동\n",
            "age: 30\n"
          ],
          "name": "stdout"
        }
      ]
    },
    {
      "cell_type": "code",
      "metadata": {
        "id": "lt95vscwpgfN"
      },
      "source": [
        ""
      ],
      "execution_count": null,
      "outputs": []
    }
  ]
}