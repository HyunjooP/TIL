{
  "nbformat": 4,
  "nbformat_minor": 0,
  "metadata": {
    "colab": {
      "name": "Codeup100.ipynb",
      "provenance": [],
      "collapsed_sections": [],
      "authorship_tag": "ABX9TyOwToC3zDrB7oA9RN2AtLvm",
      "include_colab_link": true
    },
    "kernelspec": {
      "name": "python3",
      "display_name": "Python 3"
    },
    "language_info": {
      "name": "python"
    }
  },
  "cells": [
    {
      "cell_type": "markdown",
      "metadata": {
        "id": "view-in-github",
        "colab_type": "text"
      },
      "source": [
        "<a href=\"https://colab.research.google.com/github/HyunjooP/TIL/blob/master/Codeup100.ipynb\" target=\"_parent\"><img src=\"https://colab.research.google.com/assets/colab-badge.svg\" alt=\"Open In Colab\"/></a>"
      ]
    },
    {
      "cell_type": "markdown",
      "metadata": {
        "id": "D0DeRLtxkb07"
      },
      "source": [
        "# Code up 기초 100제"
      ]
    },
    {
      "cell_type": "code",
      "metadata": {
        "colab": {
          "base_uri": "https://localhost:8080/"
        },
        "id": "9RqKH6r0kaIv",
        "outputId": "c4c96efb-fa0f-4e68-aa33-40466c5e6c76"
      },
      "source": [
        "print(\"\\\"!@#$%^&*()'\")"
      ],
      "execution_count": null,
      "outputs": [
        {
          "output_type": "stream",
          "name": "stdout",
          "text": [
            "\"!@#$%^&*()'\n"
          ]
        }
      ]
    },
    {
      "cell_type": "code",
      "metadata": {
        "colab": {
          "base_uri": "https://localhost:8080/"
        },
        "id": "Y52O_VZik6tN",
        "outputId": "58b78c77-1403-4a59-8951-75a32eebd43c"
      },
      "source": [
        "print(\"\\\"C:\\Download\\\\'hello'.py\\\"\")"
      ],
      "execution_count": null,
      "outputs": [
        {
          "output_type": "stream",
          "name": "stdout",
          "text": [
            "\"C:\\Download\\'hello'.py\"\n"
          ]
        }
      ]
    },
    {
      "cell_type": "code",
      "metadata": {
        "colab": {
          "base_uri": "https://localhost:8080/"
        },
        "id": "JrkW71U4lasG",
        "outputId": "2c43c1ab-16e7-4672-c2b7-24c1a59bee7d"
      },
      "source": [
        "print('print(\"Hello\\\\nWorld\")')\n",
        "# print(\"Hello\\nWorld\")"
      ],
      "execution_count": null,
      "outputs": [
        {
          "output_type": "stream",
          "name": "stdout",
          "text": [
            "print(\"Hello\\nWorld\")\n"
          ]
        }
      ]
    },
    {
      "cell_type": "code",
      "metadata": {
        "colab": {
          "base_uri": "https://localhost:8080/"
        },
        "id": "4AA_u4Lbl4V3",
        "outputId": "52b77ae2-315a-483d-f87c-afc4d43e30b1"
      },
      "source": [
        "c = input()\n",
        "print(c)"
      ],
      "execution_count": null,
      "outputs": [
        {
          "output_type": "stream",
          "name": "stdout",
          "text": [
            "a\n",
            "a\n"
          ]
        }
      ]
    },
    {
      "cell_type": "code",
      "metadata": {
        "colab": {
          "base_uri": "https://localhost:8080/"
        },
        "id": "I3UxZ7xAoSMK",
        "outputId": "8b8c3056-e7ea-40db-bcc7-60cc803c1c2e"
      },
      "source": [
        "n = input()\n",
        "n = int(n)\n",
        "print(n)"
      ],
      "execution_count": null,
      "outputs": [
        {
          "output_type": "stream",
          "name": "stdout",
          "text": [
            "15\n",
            "15\n"
          ]
        }
      ]
    },
    {
      "cell_type": "code",
      "metadata": {
        "colab": {
          "base_uri": "https://localhost:8080/"
        },
        "id": "WdfBHw_DvcMM",
        "outputId": "3a030c62-4e52-425c-9f6f-8854874e1827"
      },
      "source": [
        "f = input()\n",
        "f = float(f)\n",
        "print(f)"
      ],
      "execution_count": null,
      "outputs": [
        {
          "output_type": "stream",
          "name": "stdout",
          "text": [
            "1.414213\n",
            "1.414213\n"
          ]
        }
      ]
    },
    {
      "cell_type": "code",
      "metadata": {
        "colab": {
          "base_uri": "https://localhost:8080/"
        },
        "id": "n04Gq0ECv7Vn",
        "outputId": "9704bb00-640b-421f-f7ae-a71f3367be3e"
      },
      "source": [
        "a = input() \n",
        "b = input()\n",
        "print(a)\n",
        "print(b)"
      ],
      "execution_count": null,
      "outputs": [
        {
          "output_type": "stream",
          "name": "stdout",
          "text": [
            "1\n",
            "2\n",
            "1\n",
            "2\n"
          ]
        }
      ]
    },
    {
      "cell_type": "code",
      "metadata": {
        "id": "ltknHyNuwIvE"
      },
      "source": [
        "a = input() \n",
        "b = input()\n",
        "print(b)\n",
        "print(a)"
      ],
      "execution_count": null,
      "outputs": []
    },
    {
      "cell_type": "code",
      "metadata": {
        "colab": {
          "base_uri": "https://localhost:8080/"
        },
        "id": "O2k0WxqSwiNd",
        "outputId": "8fca20d1-49b8-4814-8a0b-ed4e2e73160a"
      },
      "source": [
        "f = input()\n",
        "\n",
        "print(f)\n",
        "print(f)\n",
        "print(f)"
      ],
      "execution_count": null,
      "outputs": [
        {
          "output_type": "stream",
          "name": "stdout",
          "text": [
            "0.1\n",
            "0.1\n",
            "0.1\n",
            "0.1\n"
          ]
        }
      ]
    },
    {
      "cell_type": "code",
      "metadata": {
        "colab": {
          "base_uri": "https://localhost:8080/"
        },
        "id": "chRWHwMSwvEg",
        "outputId": "10094404-28cb-410b-ffc4-b28aa8a836e1"
      },
      "source": [
        "a, b = input().split()\n",
        "print(a)\n",
        "print(b)"
      ],
      "execution_count": null,
      "outputs": [
        {
          "output_type": "stream",
          "name": "stdout",
          "text": [
            "1 2\n",
            "1\n",
            "2\n"
          ]
        }
      ]
    },
    {
      "cell_type": "code",
      "metadata": {
        "colab": {
          "base_uri": "https://localhost:8080/"
        },
        "id": "5liJLaN3wlUt",
        "outputId": "d9b8a1ad-1954-437d-d6f8-caae1d490319"
      },
      "source": [
        "s = input()\n",
        "print(s, s, s)"
      ],
      "execution_count": null,
      "outputs": [
        {
          "output_type": "stream",
          "name": "stdout",
          "text": [
            "computer science\n",
            "computer science computer science computer science\n"
          ]
        }
      ]
    },
    {
      "cell_type": "code",
      "metadata": {
        "colab": {
          "base_uri": "https://localhost:8080/"
        },
        "id": "lxnM3GjwxjqQ",
        "outputId": "b34dfb35-b21e-4e50-d746-bf1eb01f5868"
      },
      "source": [
        "a, b = input().split(':')\n",
        "print(a, b, sep=':')"
      ],
      "execution_count": null,
      "outputs": [
        {
          "output_type": "stream",
          "name": "stdout",
          "text": [
            "3:16\n",
            "3:16\n"
          ]
        }
      ]
    },
    {
      "cell_type": "code",
      "metadata": {
        "colab": {
          "base_uri": "https://localhost:8080/"
        },
        "id": "g4iXUN2iyHc1",
        "outputId": "7d913832-118e-4f70-c056-e235507266c5"
      },
      "source": [
        "y, m, d = input().split('.')\n",
        "print(d,m,y, sep='-')"
      ],
      "execution_count": null,
      "outputs": [
        {
          "output_type": "stream",
          "name": "stdout",
          "text": [
            "2020.3.4\n",
            "4-3-2020\n"
          ]
        }
      ]
    },
    {
      "cell_type": "code",
      "metadata": {
        "colab": {
          "base_uri": "https://localhost:8080/"
        },
        "id": "mzAzMgERyXdT",
        "outputId": "885aafa9-b30c-4608-d581-72448698583e"
      },
      "source": [
        "# 주민번호 앞 6자리와 뒷 7자리가 '-'로 구분되어 입력된다.\n",
        "# (입력값은 가상의 주민번호이다.)\n",
        "# ex)110011-0000000\n",
        "\n",
        "a,b = input().split('-')\n",
        "print(a+b)"
      ],
      "execution_count": null,
      "outputs": [
        {
          "output_type": "stream",
          "name": "stdout",
          "text": [
            "000907-1121112\n",
            "0009071121112\n"
          ]
        }
      ]
    },
    {
      "cell_type": "code",
      "metadata": {
        "colab": {
          "base_uri": "https://localhost:8080/"
        },
        "id": "f1WdkRoQzFJ6",
        "outputId": "5e96fa02-14cb-420e-bfc6-e33d10d85ad4"
      },
      "source": [
        "s = input()\n",
        "print(s[0])\n",
        "print(s[1])\n",
        "print(s[2])\n",
        "print(s[3])\n",
        "print(s[4])"
      ],
      "execution_count": null,
      "outputs": [
        {
          "output_type": "stream",
          "name": "stdout",
          "text": [
            "Hello\n",
            "H\n",
            "e\n",
            "l\n",
            "l\n",
            "o\n"
          ]
        }
      ]
    },
    {
      "cell_type": "code",
      "metadata": {
        "id": "3ugCbyOZ0E9t",
        "colab": {
          "base_uri": "https://localhost:8080/"
        },
        "outputId": "d624f2db-92ce-4d1a-8fed-e9b0c00e9812"
      },
      "source": [
        "s = input()\n",
        "print(s[0:2], s[2:4], s[4:6])"
      ],
      "execution_count": null,
      "outputs": [
        {
          "output_type": "stream",
          "name": "stdout",
          "text": [
            "200304\n",
            "20 03 04\n"
          ]
        }
      ]
    },
    {
      "cell_type": "code",
      "metadata": {
        "colab": {
          "base_uri": "https://localhost:8080/"
        },
        "id": "Q87urY8ImjJV",
        "outputId": "5aae24ea-bad7-45c1-9e16-f2c0aea0f86b"
      },
      "source": [
        "# 1:23:57\n",
        "\n",
        "a,b,c = input().split(':')\n",
        "print(b)"
      ],
      "execution_count": null,
      "outputs": [
        {
          "output_type": "stream",
          "name": "stdout",
          "text": [
            "1:23:57\n",
            "23\n"
          ]
        }
      ]
    },
    {
      "cell_type": "code",
      "metadata": {
        "colab": {
          "base_uri": "https://localhost:8080/"
        },
        "id": "a-Gy2bWQmjBW",
        "outputId": "f94af828-73b4-4718-cfed-7d90ba3d4cc1"
      },
      "source": [
        "w1, w2 = input().split()\n",
        "s = w1 + w2\n",
        "print(s)"
      ],
      "execution_count": null,
      "outputs": [
        {
          "output_type": "stream",
          "name": "stdout",
          "text": [
            "hello world\n",
            "helloworld\n"
          ]
        }
      ]
    },
    {
      "cell_type": "code",
      "metadata": {
        "colab": {
          "base_uri": "https://localhost:8080/"
        },
        "id": "qdnuAA7Wmi9H",
        "outputId": "7fe71722-a3a9-4e41-c42d-3f7d3e777395"
      },
      "source": [
        "a, b = input().split()\n",
        "c = int(a) + int(b)\n",
        "print(c)\n"
      ],
      "execution_count": null,
      "outputs": [
        {
          "output_type": "stream",
          "name": "stdout",
          "text": [
            "123 -123\n",
            "0\n"
          ]
        }
      ]
    },
    {
      "cell_type": "code",
      "metadata": {
        "colab": {
          "base_uri": "https://localhost:8080/"
        },
        "id": "T2-qPHhyo7cB",
        "outputId": "d27710e2-1295-4376-9d34-9b47f591762c"
      },
      "source": [
        "a = input()\n",
        "b = input()\n",
        "c = float(a) + float(b)\n",
        "print(c)"
      ],
      "execution_count": null,
      "outputs": [
        {
          "output_type": "stream",
          "name": "stdout",
          "text": [
            "0.1\n",
            "0.1\n",
            "0.2\n"
          ]
        }
      ]
    },
    {
      "cell_type": "code",
      "metadata": {
        "colab": {
          "base_uri": "https://localhost:8080/"
        },
        "id": "SLXVXtsA95br",
        "outputId": "8194f751-b4a7-44c7-f77e-f8c5e718c4b3"
      },
      "source": [
        "# 16진수\n",
        "a = input()\n",
        "n = int(a)            #입력된 a를 10진수 값으로 변환해 변수 n에 저장\n",
        "print('%X' % n)  #n에 저장되어있는 값을 16진수 대문자 형태 문자열로 출력\n"
      ],
      "execution_count": null,
      "outputs": [
        {
          "output_type": "stream",
          "name": "stdout",
          "text": [
            "255\n",
            "FF\n"
          ]
        }
      ]
    },
    {
      "cell_type": "code",
      "metadata": {
        "id": "tDtjk_YX357j",
        "colab": {
          "base_uri": "https://localhost:8080/"
        },
        "outputId": "bf51953b-5260-4b4f-eccf-0491805d09d2"
      },
      "source": [
        "# 16진수\n",
        "a = input()\n",
        "n = int(a)            #입력된 a를 10진수 값으로 변환해 변수 n에 저장\n",
        "print('%x' % n)  #n에 저장되어있는 값을 16진수 소문자 형태 문자열로 출력\n"
      ],
      "execution_count": null,
      "outputs": [
        {
          "output_type": "stream",
          "name": "stdout",
          "text": [
            "255\n",
            "ff\n"
          ]
        }
      ]
    },
    {
      "cell_type": "code",
      "metadata": {
        "id": "7M3ui3DY371Y"
      },
      "source": [
        ""
      ],
      "execution_count": null,
      "outputs": []
    }
  ]
}