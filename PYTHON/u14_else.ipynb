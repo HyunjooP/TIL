{
  "nbformat": 4,
  "nbformat_minor": 0,
  "metadata": {
    "colab": {
      "name": "u14_else.ipynb",
      "provenance": [],
      "collapsed_sections": []
    },
    "kernelspec": {
      "name": "python3",
      "display_name": "Python 3"
    },
    "language_info": {
      "name": "python"
    }
  },
  "cells": [
    {
      "cell_type": "markdown",
      "metadata": {
        "id": "GckLYSIQmE0N"
      },
      "source": [
        "# Unit 14. else"
      ]
    },
    {
      "cell_type": "code",
      "metadata": {
        "colab": {
          "base_uri": "https://localhost:8080/"
        },
        "id": "-KI-enEzlTXf",
        "outputId": "93591b34-7c79-41e6-cec3-c4fec58d47fc"
      },
      "source": [
        "x = 5\n",
        "if x == 10:\n",
        "    print('It is 10.')\n",
        "else:\n",
        "    print('It is not 10.')"
      ],
      "execution_count": 1,
      "outputs": [
        {
          "output_type": "stream",
          "text": [
            "It is not 10.\n"
          ],
          "name": "stdout"
        }
      ]
    },
    {
      "cell_type": "markdown",
      "metadata": {
        "id": "ReKuDt0qnRvL"
      },
      "source": [
        "### 3항 연산자\n",
        "- 파이썬 a = 참일때의 값 if 조건 else 거짓일때의 값"
      ]
    },
    {
      "cell_type": "code",
      "metadata": {
        "colab": {
          "base_uri": "https://localhost:8080/",
          "height": 35
        },
        "id": "s13knKM3miZD",
        "outputId": "ebb7f2d5-688a-4548-ffe7-856b59bc34c5"
      },
      "source": [
        "x = 1\n",
        "if x % 2 == 0:\n",
        "    y = 'even'\n",
        "else:\n",
        "    y = 'odd'\n",
        "y"
      ],
      "execution_count": 2,
      "outputs": [
        {
          "output_type": "execute_result",
          "data": {
            "application/vnd.google.colaboratory.intrinsic+json": {
              "type": "string"
            },
            "text/plain": [
              "'odd'"
            ]
          },
          "metadata": {
            "tags": []
          },
          "execution_count": 2
        }
      ]
    },
    {
      "cell_type": "code",
      "metadata": {
        "colab": {
          "base_uri": "https://localhost:8080/"
        },
        "id": "xFD33oGvnuqT",
        "outputId": "1cd273d1-03db-4389-95fe-eaba2ea712ff"
      },
      "source": [
        "x = 5\n",
        "y = x if x == 10 else 0\n",
        "y"
      ],
      "execution_count": 5,
      "outputs": [
        {
          "output_type": "execute_result",
          "data": {
            "text/plain": [
              "0"
            ]
          },
          "metadata": {
            "tags": []
          },
          "execution_count": 5
        }
      ]
    },
    {
      "cell_type": "code",
      "metadata": {
        "colab": {
          "base_uri": "https://localhost:8080/"
        },
        "id": "ncnvZaItoDPe",
        "outputId": "d46699d2-c41e-4af9-d408-e61491ca8b70"
      },
      "source": [
        "# 90점 이상이면 'A', 80점 이상이면 'B', 70점 이상이면 'C'\n",
        "score = int(input('점수 입력> '))"
      ],
      "execution_count": 6,
      "outputs": [
        {
          "output_type": "stream",
          "text": [
            "점수 입력> 82\n"
          ],
          "name": "stdout"
        }
      ]
    },
    {
      "cell_type": "code",
      "metadata": {
        "colab": {
          "base_uri": "https://localhost:8080/"
        },
        "id": "2hbGtYUcowoj",
        "outputId": "bb0ff7cc-ef9c-42cc-fed1-c6f3d074d109"
      },
      "source": [
        "score = int(input('점수 입력> '))\n",
        "if score >= 90:\n",
        "    print('A')\n",
        "if 90> score >= 80:\n",
        "    print('B')\n",
        "if 80> score >=70:\n",
        "    print('C')\n",
        "if 70 > score >= 60:\n",
        "    print('D')\n",
        "if score < 60:\n",
        "    print('F')\n",
        "\n"
      ],
      "execution_count": 9,
      "outputs": [
        {
          "output_type": "stream",
          "text": [
            "점수 입력> 82\n",
            "B\n"
          ],
          "name": "stdout"
        }
      ]
    },
    {
      "cell_type": "code",
      "metadata": {
        "colab": {
          "base_uri": "https://localhost:8080/"
        },
        "id": "iME0gDfqpXeR",
        "outputId": "b102ebc1-fd42-4696-d917-7728deba2682"
      },
      "source": [
        "if score >= 90:\n",
        "    grade = 'A'\n",
        "    print('A')\n",
        "else:\n",
        "    if score >= 80:\n",
        "        grade = \"B\"\n",
        "    else:\n",
        "        if score >= 70:\n",
        "            grade = 'C'\n",
        "        else:\n",
        "            if score >= 60:\n",
        "                grade = \"D\"\n",
        "            else:\n",
        "                grade = \"F\"\n",
        "print(grade)"
      ],
      "execution_count": 10,
      "outputs": [
        {
          "output_type": "stream",
          "text": [
            "B\n"
          ],
          "name": "stdout"
        }
      ]
    },
    {
      "cell_type": "code",
      "metadata": {
        "colab": {
          "base_uri": "https://localhost:8080/",
          "height": 35
        },
        "id": "Zmf6S-jFqjYZ",
        "outputId": "187e8aa4-a7fe-4dce-e529-401517321148"
      },
      "source": [
        "grade = 'A' if score >= 90 else \\\n",
        "            'B' if score >= 80 else \\\n",
        "              'C' if score >= 70 else \\\n",
        "                'D' if score >= 60 else D\n",
        "grade"
      ],
      "execution_count": 14,
      "outputs": [
        {
          "output_type": "execute_result",
          "data": {
            "application/vnd.google.colaboratory.intrinsic+json": {
              "type": "string"
            },
            "text/plain": [
              "'B'"
            ]
          },
          "metadata": {
            "tags": []
          },
          "execution_count": 14
        }
      ]
    },
    {
      "cell_type": "markdown",
      "metadata": {
        "id": "bpwH_2YBuhMM"
      },
      "source": [
        "### 조건식에서의 논리연산자"
      ]
    },
    {
      "cell_type": "code",
      "metadata": {
        "colab": {
          "base_uri": "https://localhost:8080/"
        },
        "id": "jffQQ9IKq6Om",
        "outputId": "472e809b-55d0-41a6-ba71-25d0956edeae"
      },
      "source": [
        "x = 5\n",
        "if x > 0 and x < 10:\n",
        "  print('10보다 작은 양의 정수입니다')"
      ],
      "execution_count": 15,
      "outputs": [
        {
          "output_type": "stream",
          "text": [
            "10보다 작은 양의 정수입니다\n"
          ],
          "name": "stdout"
        }
      ]
    },
    {
      "cell_type": "code",
      "metadata": {
        "colab": {
          "base_uri": "https://localhost:8080/"
        },
        "id": "qIVJd2EUutJc",
        "outputId": "9e156b82-0457-4c18-dfb0-3f3ccfbed881"
      },
      "source": [
        "x = 5\n",
        "if 0 < x < 10:\n",
        "  print('10보다 작은 양의 정수입니다')"
      ],
      "execution_count": 16,
      "outputs": [
        {
          "output_type": "stream",
          "text": [
            "10보다 작은 양의 정수입니다\n"
          ],
          "name": "stdout"
        }
      ]
    },
    {
      "cell_type": "code",
      "metadata": {
        "id": "iB7SieEZu4KR"
      },
      "source": [
        ""
      ],
      "execution_count": null,
      "outputs": []
    }
  ]
}