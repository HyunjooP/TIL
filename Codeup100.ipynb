{
  "nbformat": 4,
  "nbformat_minor": 0,
  "metadata": {
    "colab": {
      "name": "Codeup100.ipynb",
      "provenance": [],
      "collapsed_sections": [],
      "authorship_tag": "ABX9TyOdwyjrK8tg1C6ai/otT9b1",
      "include_colab_link": true
    },
    "kernelspec": {
      "name": "python3",
      "display_name": "Python 3"
    },
    "language_info": {
      "name": "python"
    }
  },
  "cells": [
    {
      "cell_type": "markdown",
      "metadata": {
        "id": "view-in-github",
        "colab_type": "text"
      },
      "source": [
        "<a href=\"https://colab.research.google.com/github/HyunjooP/TIL/blob/master/Codeup100.ipynb\" target=\"_parent\"><img src=\"https://colab.research.google.com/assets/colab-badge.svg\" alt=\"Open In Colab\"/></a>"
      ]
    },
    {
      "cell_type": "markdown",
      "metadata": {
        "id": "D0DeRLtxkb07"
      },
      "source": [
        "# Code up 기초 100제"
      ]
    },
    {
      "cell_type": "code",
      "metadata": {
        "colab": {
          "base_uri": "https://localhost:8080/"
        },
        "id": "9RqKH6r0kaIv",
        "outputId": "c4c96efb-fa0f-4e68-aa33-40466c5e6c76"
      },
      "source": [
        "print(\"\\\"!@#$%^&*()'\")"
      ],
      "execution_count": null,
      "outputs": [
        {
          "output_type": "stream",
          "name": "stdout",
          "text": [
            "\"!@#$%^&*()'\n"
          ]
        }
      ]
    },
    {
      "cell_type": "code",
      "metadata": {
        "colab": {
          "base_uri": "https://localhost:8080/"
        },
        "id": "Y52O_VZik6tN",
        "outputId": "58b78c77-1403-4a59-8951-75a32eebd43c"
      },
      "source": [
        "print(\"\\\"C:\\Download\\\\'hello'.py\\\"\")"
      ],
      "execution_count": null,
      "outputs": [
        {
          "output_type": "stream",
          "name": "stdout",
          "text": [
            "\"C:\\Download\\'hello'.py\"\n"
          ]
        }
      ]
    },
    {
      "cell_type": "code",
      "metadata": {
        "colab": {
          "base_uri": "https://localhost:8080/"
        },
        "id": "JrkW71U4lasG",
        "outputId": "2c43c1ab-16e7-4672-c2b7-24c1a59bee7d"
      },
      "source": [
        "print('print(\"Hello\\\\nWorld\")')\n",
        "# print(\"Hello\\nWorld\")"
      ],
      "execution_count": null,
      "outputs": [
        {
          "output_type": "stream",
          "name": "stdout",
          "text": [
            "print(\"Hello\\nWorld\")\n"
          ]
        }
      ]
    },
    {
      "cell_type": "code",
      "metadata": {
        "colab": {
          "base_uri": "https://localhost:8080/"
        },
        "id": "4AA_u4Lbl4V3",
        "outputId": "52b77ae2-315a-483d-f87c-afc4d43e30b1"
      },
      "source": [
        "c = input()\n",
        "print(c)"
      ],
      "execution_count": null,
      "outputs": [
        {
          "output_type": "stream",
          "name": "stdout",
          "text": [
            "a\n",
            "a\n"
          ]
        }
      ]
    },
    {
      "cell_type": "code",
      "metadata": {
        "colab": {
          "base_uri": "https://localhost:8080/"
        },
        "id": "I3UxZ7xAoSMK",
        "outputId": "8b8c3056-e7ea-40db-bcc7-60cc803c1c2e"
      },
      "source": [
        "n = input()\n",
        "n = int(n)\n",
        "print(n)"
      ],
      "execution_count": null,
      "outputs": [
        {
          "output_type": "stream",
          "name": "stdout",
          "text": [
            "15\n",
            "15\n"
          ]
        }
      ]
    },
    {
      "cell_type": "code",
      "metadata": {
        "colab": {
          "base_uri": "https://localhost:8080/"
        },
        "id": "WdfBHw_DvcMM",
        "outputId": "3a030c62-4e52-425c-9f6f-8854874e1827"
      },
      "source": [
        "f = input()\n",
        "f = float(f)\n",
        "print(f)"
      ],
      "execution_count": null,
      "outputs": [
        {
          "output_type": "stream",
          "name": "stdout",
          "text": [
            "1.414213\n",
            "1.414213\n"
          ]
        }
      ]
    },
    {
      "cell_type": "code",
      "metadata": {
        "colab": {
          "base_uri": "https://localhost:8080/"
        },
        "id": "n04Gq0ECv7Vn",
        "outputId": "9704bb00-640b-421f-f7ae-a71f3367be3e"
      },
      "source": [
        "a = input() \n",
        "b = input()\n",
        "print(a)\n",
        "print(b)"
      ],
      "execution_count": null,
      "outputs": [
        {
          "output_type": "stream",
          "name": "stdout",
          "text": [
            "1\n",
            "2\n",
            "1\n",
            "2\n"
          ]
        }
      ]
    },
    {
      "cell_type": "code",
      "metadata": {
        "id": "ltknHyNuwIvE"
      },
      "source": [
        "a = input() \n",
        "b = input()\n",
        "print(b)\n",
        "print(a)"
      ],
      "execution_count": null,
      "outputs": []
    },
    {
      "cell_type": "code",
      "metadata": {
        "colab": {
          "base_uri": "https://localhost:8080/"
        },
        "id": "O2k0WxqSwiNd",
        "outputId": "8fca20d1-49b8-4814-8a0b-ed4e2e73160a"
      },
      "source": [
        "f = input()\n",
        "\n",
        "print(f)\n",
        "print(f)\n",
        "print(f)"
      ],
      "execution_count": null,
      "outputs": [
        {
          "output_type": "stream",
          "name": "stdout",
          "text": [
            "0.1\n",
            "0.1\n",
            "0.1\n",
            "0.1\n"
          ]
        }
      ]
    },
    {
      "cell_type": "code",
      "metadata": {
        "colab": {
          "base_uri": "https://localhost:8080/"
        },
        "id": "chRWHwMSwvEg",
        "outputId": "10094404-28cb-410b-ffc4-b28aa8a836e1"
      },
      "source": [
        "a, b = input().split()\n",
        "print(a)\n",
        "print(b)"
      ],
      "execution_count": null,
      "outputs": [
        {
          "output_type": "stream",
          "name": "stdout",
          "text": [
            "1 2\n",
            "1\n",
            "2\n"
          ]
        }
      ]
    },
    {
      "cell_type": "code",
      "metadata": {
        "colab": {
          "base_uri": "https://localhost:8080/"
        },
        "id": "5liJLaN3wlUt",
        "outputId": "d9b8a1ad-1954-437d-d6f8-caae1d490319"
      },
      "source": [
        "s = input()\n",
        "print(s, s, s)"
      ],
      "execution_count": null,
      "outputs": [
        {
          "output_type": "stream",
          "name": "stdout",
          "text": [
            "computer science\n",
            "computer science computer science computer science\n"
          ]
        }
      ]
    },
    {
      "cell_type": "code",
      "metadata": {
        "colab": {
          "base_uri": "https://localhost:8080/"
        },
        "id": "lxnM3GjwxjqQ",
        "outputId": "b34dfb35-b21e-4e50-d746-bf1eb01f5868"
      },
      "source": [
        "a, b = input().split(':')\n",
        "print(a, b, sep=':')"
      ],
      "execution_count": null,
      "outputs": [
        {
          "output_type": "stream",
          "name": "stdout",
          "text": [
            "3:16\n",
            "3:16\n"
          ]
        }
      ]
    },
    {
      "cell_type": "code",
      "metadata": {
        "colab": {
          "base_uri": "https://localhost:8080/"
        },
        "id": "g4iXUN2iyHc1",
        "outputId": "7d913832-118e-4f70-c056-e235507266c5"
      },
      "source": [
        "y, m, d = input().split('.')\n",
        "print(d,m,y, sep='-')"
      ],
      "execution_count": null,
      "outputs": [
        {
          "output_type": "stream",
          "name": "stdout",
          "text": [
            "2020.3.4\n",
            "4-3-2020\n"
          ]
        }
      ]
    },
    {
      "cell_type": "code",
      "metadata": {
        "colab": {
          "base_uri": "https://localhost:8080/"
        },
        "id": "mzAzMgERyXdT",
        "outputId": "885aafa9-b30c-4608-d581-72448698583e"
      },
      "source": [
        "# 주민번호 앞 6자리와 뒷 7자리가 '-'로 구분되어 입력된다.\n",
        "# (입력값은 가상의 주민번호이다.)\n",
        "# ex)110011-0000000\n",
        "\n",
        "a,b = input().split('-')\n",
        "print(a+b)"
      ],
      "execution_count": null,
      "outputs": [
        {
          "output_type": "stream",
          "name": "stdout",
          "text": [
            "000907-1121112\n",
            "0009071121112\n"
          ]
        }
      ]
    },
    {
      "cell_type": "code",
      "metadata": {
        "colab": {
          "base_uri": "https://localhost:8080/"
        },
        "id": "f1WdkRoQzFJ6",
        "outputId": "5e96fa02-14cb-420e-bfc6-e33d10d85ad4"
      },
      "source": [
        "s = input()\n",
        "print(s[0])\n",
        "print(s[1])\n",
        "print(s[2])\n",
        "print(s[3])\n",
        "print(s[4])"
      ],
      "execution_count": null,
      "outputs": [
        {
          "output_type": "stream",
          "name": "stdout",
          "text": [
            "Hello\n",
            "H\n",
            "e\n",
            "l\n",
            "l\n",
            "o\n"
          ]
        }
      ]
    },
    {
      "cell_type": "code",
      "metadata": {
        "id": "3ugCbyOZ0E9t",
        "colab": {
          "base_uri": "https://localhost:8080/"
        },
        "outputId": "d624f2db-92ce-4d1a-8fed-e9b0c00e9812"
      },
      "source": [
        "s = input()\n",
        "print(s[0:2], s[2:4], s[4:6])"
      ],
      "execution_count": 2,
      "outputs": [
        {
          "output_type": "stream",
          "name": "stdout",
          "text": [
            "200304\n",
            "20 03 04\n"
          ]
        }
      ]
    }
  ]
}