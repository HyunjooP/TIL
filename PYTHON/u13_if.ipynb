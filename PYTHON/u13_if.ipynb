{
  "nbformat": 4,
  "nbformat_minor": 0,
  "metadata": {
    "colab": {
      "name": "u13_if.ipynb",
      "provenance": [],
      "collapsed_sections": []
    },
    "kernelspec": {
      "name": "python3",
      "display_name": "Python 3"
    },
    "language_info": {
      "name": "python"
    }
  },
  "cells": [
    {
      "cell_type": "markdown",
      "metadata": {
        "id": "hEP2iWY_guvn"
      },
      "source": [
        "# Unit 13. if 조건문"
      ]
    },
    {
      "cell_type": "markdown",
      "metadata": {
        "id": "GAUJ0Rqzh3kv"
      },
      "source": [
        "## 13.1 if 조건문"
      ]
    },
    {
      "cell_type": "code",
      "metadata": {
        "colab": {
          "base_uri": "https://localhost:8080/"
        },
        "id": "yCtXzIS1gxWO",
        "outputId": "9ab0abdd-c9d9-494a-be35-0a1e7412b4b0"
      },
      "source": [
        "x = 10\n",
        "if x == 10:\n",
        "    print('It is 10.')"
      ],
      "execution_count": 1,
      "outputs": [
        {
          "output_type": "stream",
          "text": [
            "It is 10.\n"
          ],
          "name": "stdout"
        }
      ]
    },
    {
      "cell_type": "markdown",
      "metadata": {
        "id": "jdn_ug9tjOQ4"
      },
      "source": [
        "## 13.2 들여쓰기"
      ]
    },
    {
      "cell_type": "code",
      "metadata": {
        "colab": {
          "base_uri": "https://localhost:8080/"
        },
        "id": "Y_FDTz4AgGFe",
        "outputId": "783d24b6-ad36-499a-d980-b2cee9de1ca5"
      },
      "source": [
        "x = 10\n",
        "\n",
        "if x == 10:\n",
        "    print('x값은')\n",
        "    print('10입니다.')\n",
        "print('언제나 출력됩니다')"
      ],
      "execution_count": 2,
      "outputs": [
        {
          "output_type": "stream",
          "text": [
            "x값은\n",
            "10입니다.\n",
            "언제나 출력됩니다\n"
          ],
          "name": "stdout"
        }
      ]
    },
    {
      "cell_type": "markdown",
      "metadata": {
        "id": "FGDGDjmikIPh"
      },
      "source": [
        "## 13.3 중첩 if 조건문"
      ]
    },
    {
      "cell_type": "code",
      "metadata": {
        "colab": {
          "base_uri": "https://localhost:8080/"
        },
        "id": "NzZNvD6Hjd7N",
        "outputId": "6c8bbdd6-76ce-4ef7-90af-577dc84a9533"
      },
      "source": [
        "x = 15\n",
        "if x > 10:\n",
        "    print('10보다 큰 숫자입니다')\n",
        "    if x == 15:\n",
        "        print('15입니다.')"
      ],
      "execution_count": 5,
      "outputs": [
        {
          "output_type": "stream",
          "text": [
            "10보다 큰 숫자입니다\n",
            "15입니다.\n"
          ],
          "name": "stdout"
        }
      ]
    },
    {
      "cell_type": "code",
      "metadata": {
        "id": "rlhtPKlFkRT4"
      },
      "source": [
        ""
      ],
      "execution_count": null,
      "outputs": []
    }
  ]
}