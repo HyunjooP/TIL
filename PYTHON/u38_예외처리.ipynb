{
  "nbformat": 4,
  "nbformat_minor": 0,
  "metadata": {
    "colab": {
      "name": "u38_예외처리.ipynb",
      "provenance": [],
      "collapsed_sections": []
    },
    "kernelspec": {
      "name": "python3",
      "display_name": "Python 3"
    },
    "language_info": {
      "name": "python"
    }
  },
  "cells": [
    {
      "cell_type": "markdown",
      "metadata": {
        "id": "ytkcp6mPsHI6"
      },
      "source": [
        "# Unit 38. 예외 처리 사용하기"
      ]
    },
    {
      "cell_type": "markdown",
      "metadata": {
        "id": "skk_DtjXtKiZ"
      },
      "source": [
        "## 38.1 try except"
      ]
    },
    {
      "cell_type": "code",
      "metadata": {
        "colab": {
          "base_uri": "https://localhost:8080/"
        },
        "id": "Ff-PJW8co6Pt",
        "outputId": "4f5ea843-c115-4757-be50-5b3140dda8ee"
      },
      "source": [
        "a = [1,2,3]\n",
        "try:\n",
        "    a[4]\n",
        "except:\n",
        "  print('예외발생')"
      ],
      "execution_count": 1,
      "outputs": [
        {
          "output_type": "stream",
          "text": [
            "예외발생\n"
          ],
          "name": "stdout"
        }
      ]
    },
    {
      "cell_type": "code",
      "metadata": {
        "colab": {
          "base_uri": "https://localhost:8080/"
        },
        "id": "V2MOtxpltf6l",
        "outputId": "81aa566e-a941-421d-c2bd-6a8441881264"
      },
      "source": [
        "try:\n",
        "  int('10d')\n",
        "except ZeroDivisionError:\n",
        "  print('0으로 나눌 수 없습니다')\n",
        "except IndexError:\n",
        "  print('Index Error 발생')\n",
        "except ValueError:\n",
        "  print('Value Error 발생')"
      ],
      "execution_count": 4,
      "outputs": [
        {
          "output_type": "stream",
          "text": [
            "Value Error 발생\n"
          ],
          "name": "stdout"
        }
      ]
    },
    {
      "cell_type": "code",
      "metadata": {
        "colab": {
          "base_uri": "https://localhost:8080/"
        },
        "id": "fEKE2Krrv9I6",
        "outputId": "c43fdf34-63bb-4aed-b770-efe6986ee9a5"
      },
      "source": [
        "# 예외의 에러 메시지\n",
        "\n",
        "try:\n",
        "    int('10d')\n",
        "except Exception as e:      # alias\n",
        "    print(e)"
      ],
      "execution_count": 7,
      "outputs": [
        {
          "output_type": "stream",
          "text": [
            "invalid literal for int() with base 10: '10d'\n"
          ],
          "name": "stdout"
        }
      ]
    },
    {
      "cell_type": "markdown",
      "metadata": {
        "id": "IbFSrqY3xpHH"
      },
      "source": [
        "## 38.2 else-finally"
      ]
    },
    {
      "cell_type": "code",
      "metadata": {
        "colab": {
          "base_uri": "https://localhost:8080/"
        },
        "id": "7sPnzgTbxW8d",
        "outputId": "3b9247b0-7a47-490e-adee-d332516e1781"
      },
      "source": [
        "try:\n",
        "    x = int(input())\n",
        "    y = 10 / x\n",
        "except Exception as e:\n",
        "    print(e)\n",
        "else:\n",
        "    print(y)"
      ],
      "execution_count": 10,
      "outputs": [
        {
          "output_type": "stream",
          "text": [
            "0\n",
            "division by zero\n"
          ],
          "name": "stdout"
        }
      ]
    },
    {
      "cell_type": "code",
      "metadata": {
        "colab": {
          "base_uri": "https://localhost:8080/"
        },
        "id": "0ioq4wax133j",
        "outputId": "20ffd01e-6a6a-42e3-ff79-c0e474577353"
      },
      "source": [
        "# 예외와 상관없이 항상 실행\n",
        "\n",
        "try:\n",
        "    x = int(input())\n",
        "    y = 10 / x\n",
        "except Exception as e:\n",
        "    print(e)\n",
        "else:\n",
        "    print(y)\n",
        "finally:\n",
        "    print('코드 실행 종료')"
      ],
      "execution_count": 11,
      "outputs": [
        {
          "output_type": "stream",
          "text": [
            "\n",
            "invalid literal for int() with base 10: ''\n",
            "코드 실행 종료\n"
          ],
          "name": "stdout"
        }
      ]
    },
    {
      "cell_type": "code",
      "metadata": {
        "id": "RBoTDYc82cq1"
      },
      "source": [
        ""
      ],
      "execution_count": null,
      "outputs": []
    }
  ]
}