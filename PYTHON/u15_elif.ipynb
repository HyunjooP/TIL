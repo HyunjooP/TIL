{
  "nbformat": 4,
  "nbformat_minor": 0,
  "metadata": {
    "colab": {
      "name": "u15_elif.ipynb",
      "provenance": [],
      "collapsed_sections": []
    },
    "kernelspec": {
      "name": "python3",
      "display_name": "Python 3"
    },
    "language_info": {
      "name": "python"
    }
  },
  "cells": [
    {
      "cell_type": "code",
      "metadata": {
        "colab": {
          "base_uri": "https://localhost:8080/"
        },
        "id": "sMVtT3TqmmYR",
        "outputId": "2c386be6-d480-4000-95d3-3e152b1b3232"
      },
      "source": [
        "x = 20\n",
        "if x == 10:\n",
        "    print('It is 10.')\n",
        "elif x == 20:\n",
        "    print('It is 20.')\n",
        "else:\n",
        "  print('10, 20이 아닙니다')"
      ],
      "execution_count": 3,
      "outputs": [
        {
          "output_type": "stream",
          "text": [
            "It is 20.\n"
          ],
          "name": "stdout"
        }
      ]
    },
    {
      "cell_type": "code",
      "metadata": {
        "colab": {
          "base_uri": "https://localhost:8080/"
        },
        "id": "uivXH_Iookst",
        "outputId": "482e4d55-893b-4e00-8329-8d4bcc77ebda"
      },
      "source": [
        "# 숫자 - 3의 배수면 fizz, 5의 배수는 buzz, 15의 배수면 fizzbuzz\n",
        "x = int(input())\n",
        "if x % 15 == 0:\n",
        "  print('fizzbuzz')\n",
        "elif x % 5 == 0:\n",
        "  print('buzz')\n",
        "elif x % 3 == 0:\n",
        "  print('fizz')\n",
        "else:\n",
        "  print(x)"
      ],
      "execution_count": 13,
      "outputs": [
        {
          "output_type": "stream",
          "text": [
            "30\n",
            "fizzbuzz\n"
          ],
          "name": "stdout"
        }
      ]
    },
    {
      "cell_type": "code",
      "metadata": {
        "colab": {
          "base_uri": "https://localhost:8080/"
        },
        "id": "9VqCIQdkpNEv",
        "outputId": "dc4f88a7-c015-4fdd-8e93-88dacbee8303"
      },
      "source": [
        "print('fizz'*(x%3==0) + 'Buzz' * (x%5==0) or x)"
      ],
      "execution_count": 14,
      "outputs": [
        {
          "output_type": "stream",
          "text": [
            "fizzBuzz\n"
          ],
          "name": "stdout"
        }
      ]
    },
    {
      "cell_type": "code",
      "metadata": {
        "colab": {
          "base_uri": "https://localhost:8080/"
        },
        "id": "yNRwU4LOrY6i",
        "outputId": "bcc7cf87-992a-46bb-a379-e72acc20cb79"
      },
      "source": [
        "if 11 <= x <= 20:\n",
        "    print('11~20')\n",
        "elif 21 <= x <= 30:\n",
        "    print('21~30')\n",
        "else:\n",
        "    print('아무것도 해당하지 않음')"
      ],
      "execution_count": 15,
      "outputs": [
        {
          "output_type": "stream",
          "text": [
            "21~30\n"
          ],
          "name": "stdout"
        }
      ]
    },
    {
      "cell_type": "code",
      "metadata": {
        "id": "3bGYPqFlr18a"
      },
      "source": [
        ""
      ],
      "execution_count": null,
      "outputs": []
    }
  ]
}