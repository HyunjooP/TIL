{
  "nbformat": 4,
  "nbformat_minor": 0,
  "metadata": {
    "colab": {
      "name": "u16_for반복.ipynb",
      "provenance": [],
      "collapsed_sections": []
    },
    "kernelspec": {
      "name": "python3",
      "display_name": "Python 3"
    },
    "language_info": {
      "name": "python"
    }
  },
  "cells": [
    {
      "cell_type": "markdown",
      "metadata": {
        "id": "LJbqyzDAtRv1"
      },
      "source": [
        "# Unit 16. for 반복문"
      ]
    },
    {
      "cell_type": "markdown",
      "metadata": {
        "id": "F91A3E_stkmF"
      },
      "source": [
        "## for와 range"
      ]
    },
    {
      "cell_type": "code",
      "metadata": {
        "colab": {
          "base_uri": "https://localhost:8080/"
        },
        "id": "4xGIRmwhsuNH",
        "outputId": "77c571a8-e90b-4c25-e197-2c80e7ee01ab"
      },
      "source": [
        "for i in range(10):\n",
        "    print('Hello world!')"
      ],
      "execution_count": 1,
      "outputs": [
        {
          "output_type": "stream",
          "text": [
            "Hello world!\n",
            "Hello world!\n",
            "Hello world!\n",
            "Hello world!\n",
            "Hello world!\n",
            "Hello world!\n",
            "Hello world!\n",
            "Hello world!\n",
            "Hello world!\n",
            "Hello world!\n"
          ],
          "name": "stdout"
        }
      ]
    },
    {
      "cell_type": "code",
      "metadata": {
        "colab": {
          "base_uri": "https://localhost:8080/"
        },
        "id": "VBt3tlOmtYXU",
        "outputId": "c716a751-13e6-4874-e810-c404b4f6468b"
      },
      "source": [
        "for i in range(10):\n",
        "    print('Hello world!', i)"
      ],
      "execution_count": 2,
      "outputs": [
        {
          "output_type": "stream",
          "text": [
            "Hello world! 0\n",
            "Hello world! 1\n",
            "Hello world! 2\n",
            "Hello world! 3\n",
            "Hello world! 4\n",
            "Hello world! 5\n",
            "Hello world! 6\n",
            "Hello world! 7\n",
            "Hello world! 8\n",
            "Hello world! 9\n"
          ],
          "name": "stdout"
        }
      ]
    },
    {
      "cell_type": "code",
      "metadata": {
        "colab": {
          "base_uri": "https://localhost:8080/"
        },
        "id": "N1nFO5ZHvRA8",
        "outputId": "f4b6a71e-eb99-4a28-dbd3-fca2229c43fa"
      },
      "source": [
        "for _ in range(5):\n",
        "    print('Hello world!')"
      ],
      "execution_count": 3,
      "outputs": [
        {
          "output_type": "stream",
          "text": [
            "Hello world!\n",
            "Hello world!\n",
            "Hello world!\n",
            "Hello world!\n",
            "Hello world!\n"
          ],
          "name": "stdout"
        }
      ]
    },
    {
      "cell_type": "markdown",
      "metadata": {
        "id": "sTTxH321yKys"
      },
      "source": [
        "## 16.2 for와 range 응용"
      ]
    },
    {
      "cell_type": "code",
      "metadata": {
        "colab": {
          "base_uri": "https://localhost:8080/"
        },
        "id": "xA8Qok_yvfFZ",
        "outputId": "1f4b0cc2-8445-43da-f15b-e86edfdc3875"
      },
      "source": [
        "for i in range(6, 10):\n",
        "    print('Hello world!', i)"
      ],
      "execution_count": 10,
      "outputs": [
        {
          "output_type": "stream",
          "text": [
            "Hello world! 6\n",
            "Hello world! 7\n",
            "Hello world! 8\n",
            "Hello world! 9\n"
          ],
          "name": "stdout"
        }
      ]
    },
    {
      "cell_type": "code",
      "metadata": {
        "colab": {
          "base_uri": "https://localhost:8080/"
        },
        "id": "sg3JtouUyJdy",
        "outputId": "d9e622fe-efdd-4cba-8060-50837f2a8ecf"
      },
      "source": [
        "for i in range(6, 10, 2):\n",
        "    print('Hello world!', i)"
      ],
      "execution_count": 9,
      "outputs": [
        {
          "output_type": "stream",
          "text": [
            "Hello world! 6\n",
            "Hello world! 8\n"
          ],
          "name": "stdout"
        }
      ]
    },
    {
      "cell_type": "code",
      "metadata": {
        "colab": {
          "base_uri": "https://localhost:8080/"
        },
        "id": "IT1b9x2NyQzm",
        "outputId": "2a071dc5-3b93-4c5e-eebc-515fcfccf52f"
      },
      "source": [
        "for i in range(10, 0, -2):\n",
        "    print('Hello world!', i)"
      ],
      "execution_count": 8,
      "outputs": [
        {
          "output_type": "stream",
          "text": [
            "Hello world! 10\n",
            "Hello world! 8\n",
            "Hello world! 6\n",
            "Hello world! 4\n",
            "Hello world! 2\n"
          ],
          "name": "stdout"
        }
      ]
    },
    {
      "cell_type": "code",
      "metadata": {
        "colab": {
          "base_uri": "https://localhost:8080/"
        },
        "id": "NpH0gv8gyTI5",
        "outputId": "e80ef79d-2d73-4600-89dd-d73b5017a268"
      },
      "source": [
        "for i in range(1, 100):\n",
        "  print('Fizz'*(i%3==0) + 'Buzz'* (i%5==0) or i, end=' ')\n",
        "  if (i % 10 == 0):\n",
        "    print()\n",
        "    "
      ],
      "execution_count": 13,
      "outputs": [
        {
          "output_type": "stream",
          "text": [
            "1 2 Fizz 4 Buzz Fizz 7 8 Fizz Buzz \n",
            "11 Fizz 13 14 FizzBuzz 16 17 Fizz 19 Buzz \n",
            "Fizz 22 23 Fizz Buzz 26 Fizz 28 29 FizzBuzz \n",
            "31 32 Fizz 34 Buzz Fizz 37 38 Fizz Buzz \n",
            "41 Fizz 43 44 FizzBuzz 46 47 Fizz 49 Buzz \n",
            "Fizz 52 53 Fizz Buzz 56 Fizz 58 59 FizzBuzz \n",
            "61 62 Fizz 64 Buzz Fizz 67 68 Fizz Buzz \n",
            "71 Fizz 73 74 FizzBuzz 76 77 Fizz 79 Buzz \n",
            "Fizz 82 83 Fizz Buzz 86 Fizz 88 89 FizzBuzz \n",
            "91 92 Fizz 94 Buzz Fizz 97 98 Fizz "
          ],
          "name": "stdout"
        }
      ]
    },
    {
      "cell_type": "markdown",
      "metadata": {
        "id": "oDkaYibSz5-v"
      },
      "source": [
        "## 16.3 시퀀스 객체 반복"
      ]
    },
    {
      "cell_type": "code",
      "metadata": {
        "colab": {
          "base_uri": "https://localhost:8080/"
        },
        "id": "iGFupFbrzR08",
        "outputId": "aab2876f-9f21-49cc-95f4-f7213a559ec8"
      },
      "source": [
        "friuts = ['apple', 'banana', 'cherry']\n",
        "for element in friuts:\n",
        "  print(element)"
      ],
      "execution_count": 14,
      "outputs": [
        {
          "output_type": "stream",
          "text": [
            "apple\n",
            "banana\n",
            "cherry\n"
          ],
          "name": "stdout"
        }
      ]
    },
    {
      "cell_type": "code",
      "metadata": {
        "colab": {
          "base_uri": "https://localhost:8080/"
        },
        "id": "yZF-KmjA2R93",
        "outputId": "8b86b339-ad26-4d43-c037-b76a96c22ac3"
      },
      "source": [
        "friuts_list = ['apple', 'banana', 'cherry']\n",
        "for friuts in friuts_list:\n",
        "  print(friuts)"
      ],
      "execution_count": 18,
      "outputs": [
        {
          "output_type": "stream",
          "text": [
            "apple\n",
            "banana\n",
            "cherry\n"
          ],
          "name": "stdout"
        }
      ]
    },
    {
      "cell_type": "code",
      "metadata": {
        "colab": {
          "base_uri": "https://localhost:8080/"
        },
        "id": "snGO9L5L0TH7",
        "outputId": "ad0450e3-100b-49ac-a476-3047a8fc937d"
      },
      "source": [
        "for letter in 'Python':\n",
        "  print(letter, end='')"
      ],
      "execution_count": 19,
      "outputs": [
        {
          "output_type": "stream",
          "text": [
            "Python"
          ],
          "name": "stdout"
        }
      ]
    },
    {
      "cell_type": "code",
      "metadata": {
        "colab": {
          "base_uri": "https://localhost:8080/"
        },
        "id": "xjabHPRl1vcW",
        "outputId": "978605e7-8018-4a23-c463-1e616b2c2b8b"
      },
      "source": [
        "for letter in reversed('Python'):\n",
        "  print(letter, end=' ')"
      ],
      "execution_count": 17,
      "outputs": [
        {
          "output_type": "stream",
          "text": [
            "n o h t y P "
          ],
          "name": "stdout"
        }
      ]
    },
    {
      "cell_type": "code",
      "metadata": {
        "colab": {
          "base_uri": "https://localhost:8080/"
        },
        "id": "WczjnbEd14O-",
        "outputId": "346cea8f-8ceb-4eaa-9c4d-a0c92a5ed27c"
      },
      "source": [
        "for number in (10, 20, 30):\n",
        "  print(number)"
      ],
      "execution_count": 20,
      "outputs": [
        {
          "output_type": "stream",
          "text": [
            "10\n",
            "20\n",
            "30\n"
          ],
          "name": "stdout"
        }
      ]
    },
    {
      "cell_type": "code",
      "metadata": {
        "id": "0tZ0hOmp3KT9"
      },
      "source": [
        ""
      ],
      "execution_count": null,
      "outputs": []
    }
  ]
}