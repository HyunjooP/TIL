{
  "nbformat": 4,
  "nbformat_minor": 0,
  "metadata": {
    "colab": {
      "name": "u19_for_loop.ipynb",
      "provenance": [],
      "collapsed_sections": []
    },
    "kernelspec": {
      "name": "python3",
      "display_name": "Python 3"
    },
    "language_info": {
      "name": "python"
    }
  },
  "cells": [
    {
      "cell_type": "markdown",
      "metadata": {
        "id": "jP841YjDbV0G"
      },
      "source": [
        "# Unit 19. 중첩 반복문"
      ]
    },
    {
      "cell_type": "markdown",
      "metadata": {
        "id": "Fn4mUvqqbfAV"
      },
      "source": [
        "## 19.1 중첩(Nested) for loop"
      ]
    },
    {
      "cell_type": "code",
      "metadata": {
        "colab": {
          "base_uri": "https://localhost:8080/"
        },
        "id": "QU-1aP8VbS0m",
        "outputId": "56cea3fb-692b-4d82-8ae1-54b397c077d4"
      },
      "source": [
        "for i in range(5):          # 5번 반복. 바깥쪽 루프는 세로 방향\n",
        "    for j in range(5):      # 5번 반복. 안쪽 루프는 가로 방향\n",
        "        print('j:', j, sep='', end=' ')    # j값 출력. end에 ' '를 지정하여 줄바꿈 대신 한 칸 띄움\n",
        "    print('i:', i, '\\\\n', sep='') "
      ],
      "execution_count": 1,
      "outputs": [
        {
          "output_type": "stream",
          "text": [
            "j:0 j:1 j:2 j:3 j:4 i:0\\n\n",
            "j:0 j:1 j:2 j:3 j:4 i:1\\n\n",
            "j:0 j:1 j:2 j:3 j:4 i:2\\n\n",
            "j:0 j:1 j:2 j:3 j:4 i:3\\n\n",
            "j:0 j:1 j:2 j:3 j:4 i:4\\n\n"
          ],
          "name": "stdout"
        }
      ]
    },
    {
      "cell_type": "code",
      "metadata": {
        "colab": {
          "base_uri": "https://localhost:8080/"
        },
        "id": "A8dP9xOmcBdw",
        "outputId": "7f210bf0-2148-403f-9956-e2750f44e41c"
      },
      "source": [
        "for i in range(5):\n",
        "  for k in range(10, 60, 10):\n",
        "     print(k, end=' ')\n",
        "  print(i)"
      ],
      "execution_count": 2,
      "outputs": [
        {
          "output_type": "stream",
          "text": [
            "10 20 30 40 50 0\n",
            "10 20 30 40 50 1\n",
            "10 20 30 40 50 2\n",
            "10 20 30 40 50 3\n",
            "10 20 30 40 50 4\n"
          ],
          "name": "stdout"
        }
      ]
    },
    {
      "cell_type": "markdown",
      "metadata": {
        "id": "aytim5bNcsre"
      },
      "source": [
        "## 19.2 사각형으로 별 출력하기"
      ]
    },
    {
      "cell_type": "code",
      "metadata": {
        "colab": {
          "base_uri": "https://localhost:8080/"
        },
        "id": "wUDA1vF1cVh6",
        "outputId": "f9f3920a-6e0a-4fa3-cd86-34434d83d96f"
      },
      "source": [
        "for i in range(5):\n",
        "  for k in range(5):\n",
        "      print('*', end='')\n",
        "  print()"
      ],
      "execution_count": 4,
      "outputs": [
        {
          "output_type": "stream",
          "text": [
            "*****\n",
            "*****\n",
            "*****\n",
            "*****\n",
            "*****\n"
          ],
          "name": "stdout"
        }
      ]
    },
    {
      "cell_type": "code",
      "metadata": {
        "colab": {
          "base_uri": "https://localhost:8080/"
        },
        "id": "x_QUkCNnc3YD",
        "outputId": "08d88709-38b4-4ddb-b5ad-6706b033f0fe"
      },
      "source": [
        "# 평행사변형\n",
        "\n",
        "for i in range(3):            # 3번 반복. 세로 방향\n",
        "    for j in range(7):        # 7번 반복. 가로 방향\n",
        "        print('*', end='')    # 별 출력. end에 ''를 지정하여 줄바꿈을 하지 않음\n",
        "    print()    # 가로 방향으로 별을 다 그린 뒤 다음 줄로 넘어감\n",
        "               # (print는 출력 후 기본적으로 다음 줄로 넘어감)"
      ],
      "execution_count": 5,
      "outputs": [
        {
          "output_type": "stream",
          "text": [
            "*******\n",
            "*******\n",
            "*******\n"
          ],
          "name": "stdout"
        }
      ]
    },
    {
      "cell_type": "code",
      "metadata": {
        "colab": {
          "base_uri": "https://localhost:8080/"
        },
        "id": "PQVa3MrjdcZv",
        "outputId": "3f5f6ffa-62a1-4b12-b5f2-83c41837c9a8"
      },
      "source": [
        "# 블랭크있는 사각형\n",
        "\n",
        "for i in range(4):\n",
        "    for _ in range(0, i): \n",
        "        print(' ', end='')\n",
        "    for _ in range(5):\n",
        "        print('*', end='')\n",
        "    print()"
      ],
      "execution_count": 8,
      "outputs": [
        {
          "output_type": "stream",
          "text": [
            "*****\n",
            " *****\n",
            "  *****\n",
            "   *****\n"
          ],
          "name": "stdout"
        }
      ]
    },
    {
      "cell_type": "code",
      "metadata": {
        "id": "Q245SoyaeJyk"
      },
      "source": [
        "for i in range(0, 0):\n",
        "    print('*')"
      ],
      "execution_count": 10,
      "outputs": []
    },
    {
      "cell_type": "code",
      "metadata": {
        "colab": {
          "base_uri": "https://localhost:8080/"
        },
        "id": "ghVdWBZyev29",
        "outputId": "aa764795-f44c-4494-9087-0bc740cd8123"
      },
      "source": [
        "for i in range(4):\n",
        "  print(' '*i, '*'*5, sep='')"
      ],
      "execution_count": 14,
      "outputs": [
        {
          "output_type": "stream",
          "text": [
            "*****\n",
            " *****\n",
            "  *****\n",
            "   *****\n"
          ],
          "name": "stdout"
        }
      ]
    },
    {
      "cell_type": "markdown",
      "metadata": {
        "id": "cMZbLrC0fS_Q"
      },
      "source": [
        "## 19.3 계단식 별 모양"
      ]
    },
    {
      "cell_type": "code",
      "metadata": {
        "colab": {
          "base_uri": "https://localhost:8080/"
        },
        "id": "wYFOeyPpe9mU",
        "outputId": "e57df0a0-9350-4813-e7c6-d3ff7ee237c1"
      },
      "source": [
        "for i in range(5):\n",
        "    for _ in range(i+1):\n",
        "        print('*', end='')\n",
        "    print()"
      ],
      "execution_count": 15,
      "outputs": [
        {
          "output_type": "stream",
          "text": [
            "*\n",
            "**\n",
            "***\n",
            "****\n",
            "*****\n"
          ],
          "name": "stdout"
        }
      ]
    },
    {
      "cell_type": "code",
      "metadata": {
        "colab": {
          "base_uri": "https://localhost:8080/"
        },
        "id": "d-UyVIy7g89j",
        "outputId": "37aec62a-be2a-414d-923f-3001cca8203c"
      },
      "source": [
        "for i in range(5):\n",
        "    print('*' * (i+1))"
      ],
      "execution_count": 18,
      "outputs": [
        {
          "output_type": "stream",
          "text": [
            "*\n",
            "**\n",
            "***\n",
            "****\n",
            "*****\n"
          ],
          "name": "stdout"
        }
      ]
    },
    {
      "cell_type": "code",
      "metadata": {
        "colab": {
          "base_uri": "https://localhost:8080/"
        },
        "id": "4ysj6kuwfz-x",
        "outputId": "e49ee5f4-7567-4122-8590-db7d0b47e43f"
      },
      "source": [
        "for i in range(5):\n",
        "    for _ in range(i):\n",
        "        print(' ', end='')\n",
        "    for _ in range(5-i):\n",
        "        print('*', end='')\n",
        "    print()"
      ],
      "execution_count": 16,
      "outputs": [
        {
          "output_type": "stream",
          "text": [
            "*****\n",
            " ****\n",
            "  ***\n",
            "   **\n",
            "    *\n"
          ],
          "name": "stdout"
        }
      ]
    },
    {
      "cell_type": "code",
      "metadata": {
        "colab": {
          "base_uri": "https://localhost:8080/"
        },
        "id": "J9pnIMHbgrth",
        "outputId": "024432f8-0b77-4fdd-c5fb-c77deababbaa"
      },
      "source": [
        "for i in range(5):\n",
        "      print(' '*i, '*'*(5-i), sep='')"
      ],
      "execution_count": 20,
      "outputs": [
        {
          "output_type": "stream",
          "text": [
            "*****\n",
            " ****\n",
            "  ***\n",
            "   **\n",
            "    *\n"
          ],
          "name": "stdout"
        }
      ]
    },
    {
      "cell_type": "markdown",
      "metadata": {
        "id": "zODexnp0kOL0"
      },
      "source": [
        "### diamond 그리기"
      ]
    },
    {
      "cell_type": "code",
      "metadata": {
        "colab": {
          "base_uri": "https://localhost:8080/"
        },
        "id": "NeT1L9iShNFW",
        "outputId": "d3fe4be6-fcb9-4e33-d69c-a1fff89402bb"
      },
      "source": [
        "for i in range(5):\n",
        "    for _ in range(4-i):\n",
        "      print(' ', end='')\n",
        "    for _ in range(2*i+1):\n",
        "      print('*', end='')\n",
        "    print()\n",
        "\n",
        "for i in range(4):\n",
        "    for _ in range(i+1):\n",
        "      print(' ', end='')\n",
        "    for _ in range(7-2*i):\n",
        "      print('*', end='')\n",
        "    print()"
      ],
      "execution_count": 34,
      "outputs": [
        {
          "output_type": "stream",
          "text": [
            "    *\n",
            "   ***\n",
            "  *****\n",
            " *******\n",
            "*********\n",
            " *******\n",
            "  *****\n",
            "   ***\n",
            "    *\n"
          ],
          "name": "stdout"
        }
      ]
    },
    {
      "cell_type": "code",
      "metadata": {
        "colab": {
          "base_uri": "https://localhost:8080/"
        },
        "id": "fls5lK1Bi276",
        "outputId": "2faa1969-7897-4700-d3ba-7fc1200bc04b"
      },
      "source": [
        "for i in range(5):\n",
        "    print(' '*(4-i), '*'*(2*i+1))\n",
        "for i in range(4):\n",
        "    print(' '*(i+1), '*'*(7-2*i))"
      ],
      "execution_count": 38,
      "outputs": [
        {
          "output_type": "stream",
          "text": [
            "     *\n",
            "    ***\n",
            "   *****\n",
            "  *******\n",
            " *********\n",
            "  *******\n",
            "   *****\n",
            "    ***\n",
            "     *\n"
          ],
          "name": "stdout"
        }
      ]
    },
    {
      "cell_type": "code",
      "metadata": {
        "id": "2i-EP3G1mXDE"
      },
      "source": [
        ""
      ],
      "execution_count": null,
      "outputs": []
    }
  ]
}